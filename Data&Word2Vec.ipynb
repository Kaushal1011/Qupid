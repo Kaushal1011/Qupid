{
 "cells": [
  {
   "cell_type": "markdown",
   "id": "soviet-struggle",
   "metadata": {},
   "source": [
    "# Notebook about the research done on retrieving data for word2vec embeddings\n"
   ]
  },
  {
   "cell_type": "markdown",
   "id": "hollow-spray",
   "metadata": {},
   "source": [
    "## Trying to find related words using twitter tweet search api"
   ]
  },
  {
   "cell_type": "markdown",
   "id": "thousand-principal",
   "metadata": {},
   "source": [
    "## Define all base terms for which we want to search tweets for that may come in member profiles"
   ]
  },
  {
   "cell_type": "code",
   "execution_count": 1,
   "id": "national-investing",
   "metadata": {},
   "outputs": [],
   "source": [
    "# terms=[\"Programmer\",\"Coding\",\"Javascript\",\"Cloud Computing\",\"Manager\",\"Finance\",\"Design\",\"Art\",\"Dribbble\",\"Github\",\"Python\",\"Data\",\"Science\",\"Commerce\",\"Machine Learning\",\\\n",
    "#       \"Engineer\",\"IBM\",\"Chartered Accountant\",\"Figma\",\"Adobe\",\"Music\",\"Audio\",\"Language\",\"Vocabulary\",\"Designer\",\"Coder\",\"Mathematician\",\"Creative\",\"Logic\",\"Logical\"]\n",
    "# terms specially listed for teams app \n",
    "terms=[\"Programmer\",\"Coding\",\"Deep Learning\",\"Cloud Computing\",\"Javascript\",\"Backend\",\"Frontend\",\"Data Science\",\"Dribbble\",\"Github\",\"Machine Learning\",\\\n",
    "       \"Engineer\",\"Figma\",\"Sketch\",\"Blender\",\"Mathematician\",\"Audio Programming\",\"ReactJS\",\"VueJS\",\"CSS\",\"Design Engineer\",\"Operating System\",\\\n",
    "       \"Linux\",\"Scripting\",\"Shell Script\",\"Leader\"]"
   ]
  },
  {
   "cell_type": "code",
   "execution_count": 2,
   "id": "several-discretion",
   "metadata": {},
   "outputs": [
    {
     "data": {
      "text/plain": [
       "['Programmer',\n",
       " 'Coding',\n",
       " 'Deep Learning',\n",
       " 'Cloud Computing',\n",
       " 'Javascript',\n",
       " 'Backend',\n",
       " 'Frontend',\n",
       " 'Data Science',\n",
       " 'Dribbble',\n",
       " 'Github',\n",
       " 'Machine Learning',\n",
       " 'Engineer',\n",
       " 'Figma',\n",
       " 'Sketch',\n",
       " 'Blender',\n",
       " 'Mathematician',\n",
       " 'Audio Programming',\n",
       " 'ReactJS',\n",
       " 'VueJS',\n",
       " 'CSS',\n",
       " 'Design Engineer',\n",
       " 'Operating System',\n",
       " 'Linux',\n",
       " 'Scripting',\n",
       " 'Shell Script',\n",
       " 'Leader']"
      ]
     },
     "execution_count": 2,
     "metadata": {},
     "output_type": "execute_result"
    }
   ],
   "source": [
    "terms"
   ]
  },
  {
   "cell_type": "markdown",
   "id": "aggregate-frank",
   "metadata": {},
   "source": [
    "### Twitter API sample code\n",
    "\n",
    "```python\n",
    "import requests\n",
    "import os\n",
    "import json\n",
    "\n",
    "# To set your enviornment variables in your terminal run the following line:\n",
    "# export 'BEARER_TOKEN'='<your_bearer_token>'\n",
    "\n",
    "\n",
    "def auth():\n",
    "    return os.environ.get(\"BEARER_TOKEN\")\n",
    "\n",
    "\n",
    "def create_url():\n",
    "    query = \"from:twitterdev -is:retweet\"\n",
    "    # Tweet fields are adjustable.\n",
    "    # Options include:\n",
    "    # attachments, author_id, context_annotations,\n",
    "    # conversation_id, created_at, entities, geo, id,\n",
    "    # in_reply_to_user_id, lang, non_public_metrics, organic_metrics,\n",
    "    # possibly_sensitive, promoted_metrics, public_metrics, referenced_tweets,\n",
    "    # source, text, and withheld\n",
    "    tweet_fields = \"tweet.fields=author_id\"\n",
    "    url = \"https://api.twitter.com/2/tweets/search/recent?query={}&{}\".format(\n",
    "        query, tweet_fields\n",
    "    )\n",
    "    return url\n",
    "\n",
    "\n",
    "def create_headers(bearer_token):\n",
    "    headers = {\"Authorization\": \"Bearer {}\".format(bearer_token)}\n",
    "    return headers\n",
    "\n",
    "\n",
    "def connect_to_endpoint(url, headers):\n",
    "    response = requests.request(\"GET\", url, headers=headers)\n",
    "    print(response.status_code)\n",
    "    if response.status_code != 200:\n",
    "        raise Exception(response.status_code, response.text)\n",
    "    return response.json()\n",
    "\n",
    "\n",
    "def main():\n",
    "    bearer_token = auth()\n",
    "    url = create_url()\n",
    "    headers = create_headers(bearer_token)\n",
    "    json_response = connect_to_endpoint(url, headers)\n",
    "    print(json.dumps(json_response, indent=4, sort_keys=True))\n",
    "\n",
    "\n",
    "if __name__ == \"__main__\":\n",
    "    main()\n",
    "```"
   ]
  },
  {
   "cell_type": "code",
   "execution_count": 3,
   "id": "dying-stability",
   "metadata": {},
   "outputs": [],
   "source": [
    "import requests\n",
    "import os\n",
    "import json\n",
    "\n",
    "def create_headers(bearer_token):\n",
    "    headers = {\"Authorization\": \"Bearer {}\".format(bearer_token)}\n",
    "    return headers\n",
    "\n",
    "\n",
    "def connect_to_endpoint(url, headers):\n",
    "    response = requests.request(\"GET\", url, headers=headers)\n",
    "    print(response.status_code)\n",
    "    if response.status_code != 200:\n",
    "        raise Exception(response.status_code, response.text)\n",
    "    return response.json()\n",
    "\n",
    "def create_url(query):\n",
    "    # Tweet fields are adjustable.\n",
    "    # Options include:\n",
    "    # attachments, author_id, context_annotations,\n",
    "    # conversation_id, created_at, entities, geo, id,\n",
    "    # in_reply_to_user_id, lang, non_public_metrics, organic_metrics,\n",
    "    # possibly_sensitive, promoted_metrics, public_metrics, referenced_tweets,\n",
    "    # source, text, and withheld\n",
    "#     tweet_fields = \"tweet.fields=author_id\"\n",
    "    #max_results=100\n",
    "    url = \"https://api.twitter.com/2/tweets/search/recent?query={}&max_results=10\".format(\n",
    "        query\n",
    "    )\n",
    "    return url"
   ]
  },
  {
   "cell_type": "code",
   "execution_count": 4,
   "id": "intermediate-rotation",
   "metadata": {},
   "outputs": [],
   "source": [
    "def auth():\n",
    "    return \"AAAAAAAAAAAAAAAAAAAAAC6vMwEAAAAA5uumFGxBM1e4Kfyfr8E5TJseEZw%3DHV6mjkDp1QrpVm1bpi2yZrvAEkpqhxCK91fGkjl5gevPwtLScM\""
   ]
  },
  {
   "cell_type": "markdown",
   "id": "residential-spanish",
   "metadata": {},
   "source": [
    "```python\n",
    "# fetch tweet data initial\n",
    "for i in terms:\n",
    "    bearer_token = auth()\n",
    "    url = create_url(i)\n",
    "    headers = create_headers(bearer_token)\n",
    "    json_response = connect_to_endpoint(url, headers)\n",
    "#     print(json.dumps(json_response, indent=4, sort_keys=True))\n",
    "    with open(\"./word_dataset/\"+i+'_data.json', 'a') as f:\n",
    "        json.dump(json_response[\"data\"], f)\n",
    "```"
   ]
  },
  {
   "cell_type": "markdown",
   "id": "minor-psychiatry",
   "metadata": {},
   "source": [
    "```python\n",
    "# fetch more tweet data\n",
    "def create_url(query,next_token):\n",
    "    # Tweet fields are adjustable.\n",
    "    # Options include:\n",
    "    # attachments, author_id, context_annotations,\n",
    "    # conversation_id, created_at, entities, geo, id,\n",
    "    # in_reply_to_user_id, lang, non_public_metrics, organic_metrics,\n",
    "    # possibly_sensitive, promoted_metrics, public_metrics, referenced_tweets,\n",
    "    # source, text, and withheld\n",
    "#     tweet_fields = \"tweet.fields=author_id\"\n",
    "    #max_results=100\n",
    "    if next_token:\n",
    "        url = \"https://api.twitter.com/2/tweets/search/recent?query={}&max_results=100&next_token={}\".format(\n",
    "            query,next_token\n",
    "        )\n",
    "    else:\n",
    "        url = \"https://api.twitter.com/2/tweets/search/recent?query={}&max_results=100\".format(\n",
    "            query\n",
    "        )\n",
    "    return url\n",
    "\n",
    "next_token=[i for i in terms]\n",
    "iters=5\n",
    "for j in range(iters):\n",
    "    k=0\n",
    "    for i in terms:\n",
    "        bearer_token = auth()\n",
    "        if(j!=0):\n",
    "            url = create_url(i,next_token[k])\n",
    "        else:\n",
    "            url = create_url(i,None)\n",
    "        headers = create_headers(bearer_token)\n",
    "        json_response = connect_to_endpoint(url, headers)\n",
    "        if(json_response[\"meta\"][\"next_token\"]):\n",
    "            next_token[k]=json_response[\"meta\"][\"next_token\"]\n",
    "        k+=1\n",
    "        with open(\"./word_dataset/\"+i+\"_data.json\", \"r+\") as file:\n",
    "            data = json.load(file)\n",
    "            data.extend(json_response[\"data\"])\n",
    "            file.seek(0)\n",
    "            json.dump(data, file)\n",
    "```"
   ]
  },
  {
   "cell_type": "markdown",
   "id": "cleared-procurement",
   "metadata": {},
   "source": [
    "## Start cleaning data then extract keywords using rake or spacy"
   ]
  },
  {
   "cell_type": "markdown",
   "id": "honey-visibility",
   "metadata": {},
   "source": [
    "```python\n",
    "import re\n",
    "for i in terms:\n",
    "    with open(\"./word_dataset/\"+i+\"_data.json\", \"r+\") as file:\n",
    "            data = json.load(file)\n",
    "            arr=[]\n",
    "            for k in data:\n",
    "                # add clean up line here and saved cleaned data somewhere\n",
    "                final_cleaned = str(re.sub(r\"[^a-zA-Z0-9]+\", ' ', k[\"text\"]))\n",
    "                arr.append(final_cleaned)\n",
    "            file2=open(\"./word_dataset/\"+i+\"_cleaned.json\",\"a+\")\n",
    "            json.dump(arr,file2)\n",
    "```"
   ]
  },
  {
   "cell_type": "code",
   "execution_count": 5,
   "id": "waiting-investor",
   "metadata": {},
   "outputs": [],
   "source": [
    "# str(re.sub(r\"[^a-zA-Z0-9]+\", ' ', k[\"text\"]))"
   ]
  },
  {
   "cell_type": "markdown",
   "id": "closing-municipality",
   "metadata": {},
   "source": [
    "## Start removing stop words and useless words from sentences "
   ]
  },
  {
   "cell_type": "code",
   "execution_count": 6,
   "id": "banned-tokyo",
   "metadata": {},
   "outputs": [],
   "source": [
    "# !conda install -c conda-forge rake_nltk -y\n"
   ]
  },
  {
   "cell_type": "code",
   "execution_count": 7,
   "id": "transparent-athletics",
   "metadata": {},
   "outputs": [
    {
     "name": "stdout",
     "output_type": "stream",
     "text": [
      "{'can', 'most', 'the', 'he', 'but', 'some', \"won't\", \"didn't\", 'these', \"haven't\", \"it's\", 'do', 's', 'itself', 'didn', 'above', 'wasn', 'any', 'while', 'own', 'against', 'now', 've', 'ain', \"aren't\", 'whom', \"should've\", 'were', 'between', \"you're\", \"you'll\", 'don', 'has', 'its', 'your', 'wouldn', 'where', 'll', \"wouldn't\", 'you', 'hers', 'as', 'herself', 'very', 'or', 'mustn', 'myself', 'yourselves', 'further', 'during', 're', 'ma', \"you'd\", 'those', 'only', 'am', 'had', 'each', \"that'll\", 'under', \"couldn't\", 'needn', \"hadn't\", 'if', 'nor', 'a', 'down', 'what', \"you've\", 'at', 'ours', 'how', 'should', 'her', 'it', 'about', 'being', 'from', 'once', 'few', 'did', 'y', 'weren', 'because', 'that', 'then', \"wasn't\", 'yours', 'with', 'doesn', 'in', 'other', 't', 'our', 'for', 'mightn', \"shouldn't\", 'too', 'will', 'before', 'and', \"doesn't\", 'yourself', 'have', 'into', 'again', 'to', 'when', \"weren't\", 'up', 'are', 'on', 'themselves', \"shan't\", 'their', 'who', 'she', \"she's\", 'having', 'than', 'which', 'doing', 'so', \"isn't\", 'they', 'o', 'through', 'here', 'is', 'haven', 'himself', 'below', 'aren', 'no', \"don't\", 'won', 'by', \"hasn't\", 'hadn', 'ourselves', 'just', 'shouldn', 'out', 'i', 'his', 'until', 'after', 'both', 'same', 'why', 'isn', 'shan', 'this', 'theirs', 'my', 'was', 'we', 'them', 'been', 'him', 'off', 'of', 'not', 'hasn', 'such', \"mightn't\", 'be', 'all', 'd', 'there', 'does', 'more', 'me', 'an', \"needn't\", 'm', 'couldn', \"mustn't\", 'over'}\n"
     ]
    }
   ],
   "source": [
    "# !python -c \"import nltk; nltk.download('stopwords')\"\n",
    "from nltk.corpus import stopwords\n",
    "stop_words = set(stopwords.words('english'))\n",
    "print(stop_words)"
   ]
  },
  {
   "cell_type": "markdown",
   "id": "modular-stretch",
   "metadata": {},
   "source": [
    "## Removed stop words from tweets lets build a pandas dataframe with text\n",
    "\n",
    "```python\n",
    "from nltk.corpus import stopwords\n",
    "stop_words = set(stopwords.words('english'))\n",
    "for i in terms:\n",
    "    with open(\"./cleaned_dataset/\"+i+\"_cleaned.json\", \"r+\") as file:\n",
    "        data = json.load(file)\n",
    "        arr=[]\n",
    "        for k in data:\n",
    "            # add clean up line here and saved cleaned data somewhere\n",
    "            final_cleaned = ' '.join([word for word in k.split() if word not in stop_words])\n",
    "            arr.append(final_cleaned)\n",
    "            file2=open(\"./cleaned_dataset/\"+i+\"_stopworded.json\",\"w+\")\n",
    "            json.dump(arr,file2)\n",
    "```        "
   ]
  },
  {
   "cell_type": "code",
   "execution_count": 8,
   "id": "respective-bench",
   "metadata": {},
   "outputs": [],
   "source": [
    "import pandas as pd"
   ]
  },
  {
   "cell_type": "code",
   "execution_count": 9,
   "id": "adopted-variable",
   "metadata": {},
   "outputs": [],
   "source": [
    "all_text_df=pd.DataFrame()"
   ]
  },
  {
   "cell_type": "code",
   "execution_count": 10,
   "id": "silent-interval",
   "metadata": {},
   "outputs": [],
   "source": [
    "text_db=[]\n",
    "for i in terms:\n",
    "     with open(\"./cleaned_dataset/\"+i+\"_stopworded.json\", \"r+\") as file:\n",
    "        data = json.load(file)\n",
    "        for k in data:\n",
    "            text_db.append(k)"
   ]
  },
  {
   "cell_type": "code",
   "execution_count": 11,
   "id": "mexican-calcium",
   "metadata": {},
   "outputs": [
    {
     "data": {
      "text/plain": [
       "10455"
      ]
     },
     "execution_count": 11,
     "metadata": {},
     "output_type": "execute_result"
    }
   ],
   "source": [
    "len(text_db)"
   ]
  },
  {
   "cell_type": "code",
   "execution_count": 12,
   "id": "ceramic-explorer",
   "metadata": {},
   "outputs": [],
   "source": [
    "all_text_df[\"text\"]=text_db"
   ]
  },
  {
   "cell_type": "code",
   "execution_count": 13,
   "id": "protective-decline",
   "metadata": {},
   "outputs": [
    {
     "data": {
      "text/html": [
       "<div>\n",
       "<style scoped>\n",
       "    .dataframe tbody tr th:only-of-type {\n",
       "        vertical-align: middle;\n",
       "    }\n",
       "\n",
       "    .dataframe tbody tr th {\n",
       "        vertical-align: top;\n",
       "    }\n",
       "\n",
       "    .dataframe thead th {\n",
       "        text-align: right;\n",
       "    }\n",
       "</style>\n",
       "<table border=\"1\" class=\"dataframe\">\n",
       "  <thead>\n",
       "    <tr style=\"text-align: right;\">\n",
       "      <th></th>\n",
       "      <th>text</th>\n",
       "    </tr>\n",
       "  </thead>\n",
       "  <tbody>\n",
       "    <tr>\n",
       "      <th>0</th>\n",
       "      <td>gekido SykooSam I must born programmer</td>\n",
       "    </tr>\n",
       "    <tr>\n",
       "      <th>1</th>\n",
       "      <td>RT PR0GRAMMERHUM0R Every programmer like https...</td>\n",
       "    </tr>\n",
       "    <tr>\n",
       "      <th>2</th>\n",
       "      <td>RT carrotpharma Join welcoming Pharma Consulta...</td>\n",
       "    </tr>\n",
       "    <tr>\n",
       "      <th>3</th>\n",
       "      <td>RT motherofnodejs Never programming coding pro...</td>\n",
       "    </tr>\n",
       "    <tr>\n",
       "      <th>4</th>\n",
       "      <td>RT motherofnodejs Never programming coding pro...</td>\n",
       "    </tr>\n",
       "    <tr>\n",
       "      <th>...</th>\n",
       "      <td>...</td>\n",
       "    </tr>\n",
       "    <tr>\n",
       "      <th>10450</th>\n",
       "      <td>RT toryboypierce Former SNP leader Alec Salmon...</td>\n",
       "    </tr>\n",
       "    <tr>\n",
       "      <th>10451</th>\n",
       "      <td>RT Fereeha PPP leader TalpurTaimur said snake ...</td>\n",
       "    </tr>\n",
       "    <tr>\n",
       "      <th>10452</th>\n",
       "      <td>RT nowthisnews HAPPENING NOW SCHUMER SPEAKS TO...</td>\n",
       "    </tr>\n",
       "    <tr>\n",
       "      <th>10453</th>\n",
       "      <td>RT waller73 Just year leader done LiverpoolMayor</td>\n",
       "    </tr>\n",
       "    <tr>\n",
       "      <th>10454</th>\n",
       "      <td>RT DeputyRustArt So interesting lore stuff GG ...</td>\n",
       "    </tr>\n",
       "  </tbody>\n",
       "</table>\n",
       "<p>10455 rows × 1 columns</p>\n",
       "</div>"
      ],
      "text/plain": [
       "                                                    text\n",
       "0                 gekido SykooSam I must born programmer\n",
       "1      RT PR0GRAMMERHUM0R Every programmer like https...\n",
       "2      RT carrotpharma Join welcoming Pharma Consulta...\n",
       "3      RT motherofnodejs Never programming coding pro...\n",
       "4      RT motherofnodejs Never programming coding pro...\n",
       "...                                                  ...\n",
       "10450  RT toryboypierce Former SNP leader Alec Salmon...\n",
       "10451  RT Fereeha PPP leader TalpurTaimur said snake ...\n",
       "10452  RT nowthisnews HAPPENING NOW SCHUMER SPEAKS TO...\n",
       "10453   RT waller73 Just year leader done LiverpoolMayor\n",
       "10454  RT DeputyRustArt So interesting lore stuff GG ...\n",
       "\n",
       "[10455 rows x 1 columns]"
      ]
     },
     "execution_count": 13,
     "metadata": {},
     "output_type": "execute_result"
    }
   ],
   "source": [
    "all_text_df"
   ]
  },
  {
   "cell_type": "code",
   "execution_count": 14,
   "id": "demographic-physics",
   "metadata": {},
   "outputs": [],
   "source": [
    "all_text_df.to_csv(\"tweet_text_db.csv\")"
   ]
  },
  {
   "cell_type": "code",
   "execution_count": 15,
   "id": "stone-taylor",
   "metadata": {},
   "outputs": [],
   "source": [
    "# !conda install -c anaconda gensim -y"
   ]
  },
  {
   "cell_type": "code",
   "execution_count": 16,
   "id": "accessory-metropolitan",
   "metadata": {},
   "outputs": [],
   "source": [
    "import nltk"
   ]
  },
  {
   "cell_type": "code",
   "execution_count": 17,
   "id": "pressing-relief",
   "metadata": {},
   "outputs": [],
   "source": [
    "all_text_df['tokenized'] = all_text_df.apply(lambda row: nltk.word_tokenize(row['text']), axis=1)"
   ]
  },
  {
   "cell_type": "code",
   "execution_count": 18,
   "id": "honey-discount",
   "metadata": {},
   "outputs": [
    {
     "data": {
      "text/html": [
       "<div>\n",
       "<style scoped>\n",
       "    .dataframe tbody tr th:only-of-type {\n",
       "        vertical-align: middle;\n",
       "    }\n",
       "\n",
       "    .dataframe tbody tr th {\n",
       "        vertical-align: top;\n",
       "    }\n",
       "\n",
       "    .dataframe thead th {\n",
       "        text-align: right;\n",
       "    }\n",
       "</style>\n",
       "<table border=\"1\" class=\"dataframe\">\n",
       "  <thead>\n",
       "    <tr style=\"text-align: right;\">\n",
       "      <th></th>\n",
       "      <th>text</th>\n",
       "      <th>tokenized</th>\n",
       "    </tr>\n",
       "  </thead>\n",
       "  <tbody>\n",
       "    <tr>\n",
       "      <th>0</th>\n",
       "      <td>gekido SykooSam I must born programmer</td>\n",
       "      <td>[gekido, SykooSam, I, must, born, programmer]</td>\n",
       "    </tr>\n",
       "    <tr>\n",
       "      <th>1</th>\n",
       "      <td>RT PR0GRAMMERHUM0R Every programmer like https...</td>\n",
       "      <td>[RT, PR0GRAMMERHUM0R, Every, programmer, like,...</td>\n",
       "    </tr>\n",
       "    <tr>\n",
       "      <th>2</th>\n",
       "      <td>RT carrotpharma Join welcoming Pharma Consulta...</td>\n",
       "      <td>[RT, carrotpharma, Join, welcoming, Pharma, Co...</td>\n",
       "    </tr>\n",
       "    <tr>\n",
       "      <th>3</th>\n",
       "      <td>RT motherofnodejs Never programming coding pro...</td>\n",
       "      <td>[RT, motherofnodejs, Never, programming, codin...</td>\n",
       "    </tr>\n",
       "    <tr>\n",
       "      <th>4</th>\n",
       "      <td>RT motherofnodejs Never programming coding pro...</td>\n",
       "      <td>[RT, motherofnodejs, Never, programming, codin...</td>\n",
       "    </tr>\n",
       "    <tr>\n",
       "      <th>...</th>\n",
       "      <td>...</td>\n",
       "      <td>...</td>\n",
       "    </tr>\n",
       "    <tr>\n",
       "      <th>10450</th>\n",
       "      <td>RT toryboypierce Former SNP leader Alec Salmon...</td>\n",
       "      <td>[RT, toryboypierce, Former, SNP, leader, Alec,...</td>\n",
       "    </tr>\n",
       "    <tr>\n",
       "      <th>10451</th>\n",
       "      <td>RT Fereeha PPP leader TalpurTaimur said snake ...</td>\n",
       "      <td>[RT, Fereeha, PPP, leader, TalpurTaimur, said,...</td>\n",
       "    </tr>\n",
       "    <tr>\n",
       "      <th>10452</th>\n",
       "      <td>RT nowthisnews HAPPENING NOW SCHUMER SPEAKS TO...</td>\n",
       "      <td>[RT, nowthisnews, HAPPENING, NOW, SCHUMER, SPE...</td>\n",
       "    </tr>\n",
       "    <tr>\n",
       "      <th>10453</th>\n",
       "      <td>RT waller73 Just year leader done LiverpoolMayor</td>\n",
       "      <td>[RT, waller73, Just, year, leader, done, Liver...</td>\n",
       "    </tr>\n",
       "    <tr>\n",
       "      <th>10454</th>\n",
       "      <td>RT DeputyRustArt So interesting lore stuff GG ...</td>\n",
       "      <td>[RT, DeputyRustArt, So, interesting, lore, stu...</td>\n",
       "    </tr>\n",
       "  </tbody>\n",
       "</table>\n",
       "<p>10455 rows × 2 columns</p>\n",
       "</div>"
      ],
      "text/plain": [
       "                                                    text  \\\n",
       "0                 gekido SykooSam I must born programmer   \n",
       "1      RT PR0GRAMMERHUM0R Every programmer like https...   \n",
       "2      RT carrotpharma Join welcoming Pharma Consulta...   \n",
       "3      RT motherofnodejs Never programming coding pro...   \n",
       "4      RT motherofnodejs Never programming coding pro...   \n",
       "...                                                  ...   \n",
       "10450  RT toryboypierce Former SNP leader Alec Salmon...   \n",
       "10451  RT Fereeha PPP leader TalpurTaimur said snake ...   \n",
       "10452  RT nowthisnews HAPPENING NOW SCHUMER SPEAKS TO...   \n",
       "10453   RT waller73 Just year leader done LiverpoolMayor   \n",
       "10454  RT DeputyRustArt So interesting lore stuff GG ...   \n",
       "\n",
       "                                               tokenized  \n",
       "0          [gekido, SykooSam, I, must, born, programmer]  \n",
       "1      [RT, PR0GRAMMERHUM0R, Every, programmer, like,...  \n",
       "2      [RT, carrotpharma, Join, welcoming, Pharma, Co...  \n",
       "3      [RT, motherofnodejs, Never, programming, codin...  \n",
       "4      [RT, motherofnodejs, Never, programming, codin...  \n",
       "...                                                  ...  \n",
       "10450  [RT, toryboypierce, Former, SNP, leader, Alec,...  \n",
       "10451  [RT, Fereeha, PPP, leader, TalpurTaimur, said,...  \n",
       "10452  [RT, nowthisnews, HAPPENING, NOW, SCHUMER, SPE...  \n",
       "10453  [RT, waller73, Just, year, leader, done, Liver...  \n",
       "10454  [RT, DeputyRustArt, So, interesting, lore, stu...  \n",
       "\n",
       "[10455 rows x 2 columns]"
      ]
     },
     "execution_count": 18,
     "metadata": {},
     "output_type": "execute_result"
    }
   ],
   "source": [
    "all_text_df"
   ]
  },
  {
   "cell_type": "code",
   "execution_count": 19,
   "id": "neutral-facing",
   "metadata": {},
   "outputs": [],
   "source": [
    "from gensim.models import Word2Vec"
   ]
  },
  {
   "cell_type": "code",
   "execution_count": 20,
   "id": "decent-married",
   "metadata": {},
   "outputs": [],
   "source": [
    "model = Word2Vec(all_text_df[\"tokenized\"], min_count=1)\n"
   ]
  },
  {
   "cell_type": "code",
   "execution_count": 23,
   "id": "interstate-redhead",
   "metadata": {},
   "outputs": [
    {
     "name": "stdout",
     "output_type": "stream",
     "text": [
      "Word2Vec(vocab=28249, size=100, alpha=0.025)\n",
      "[-0.05092476 -0.6174708  -0.21795674  0.89006746  0.20498055  0.14906953\n",
      "  0.44968066 -0.9787879  -0.5048926   0.8400979  -1.0731926  -0.29330224\n",
      "  0.11087629 -0.43687248  0.5864134  -0.44023415 -0.08625937  0.05152275\n",
      " -0.283713   -0.53310287  0.3212956   0.01345026  0.34741563  0.7295249\n",
      "  0.12459099  0.6573796   0.8155025  -0.8058815  -0.7211057  -0.39866284\n",
      "  0.4931659   0.32254848 -0.30149272  0.35740596 -0.42182735  0.5632865\n",
      " -0.9083596   0.48815355 -0.13788585  0.3861491   0.8422098  -0.7323714\n",
      "  0.06066409 -1.1665702  -0.7918566   0.62904584 -0.21194558  0.6003256\n",
      "  0.09010583  0.24248448  0.71595156 -0.89056176 -0.0456437  -1.076717\n",
      "  0.05742458 -0.2795264   0.1251021   0.11397291 -0.7738054  -0.09502061\n",
      "  0.5185516  -0.3209636   0.06408984 -0.01651498 -0.35370508 -0.25576058\n",
      " -0.35023642 -0.86111003 -0.3011318  -0.20085451 -0.1592278   0.71849966\n",
      " -1.0435585   0.34261948  0.5263774   0.1505777   1.093924    1.4361805\n",
      "  1.1169804   0.47008228 -0.22013806  1.0069295   0.04374873 -0.91126037\n",
      " -0.34858176  0.28169927 -0.8939042   0.30965832 -0.07359043 -0.03186678\n",
      "  0.34127772 -0.72101897  0.09981688  0.3491761  -0.76141465  0.6090523\n",
      "  0.46356478  0.38350177 -0.64755577  0.26402825]\n"
     ]
    },
    {
     "name": "stderr",
     "output_type": "stream",
     "text": [
      "<ipython-input-23-793e5745a1c5>:6: DeprecationWarning: Call to deprecated `__getitem__` (Method will be removed in 4.0.0, use self.wv.__getitem__() instead).\n",
      "  print(model['python'])\n"
     ]
    },
    {
     "name": "stdout",
     "output_type": "stream",
     "text": [
      "Word2Vec(vocab=28249, size=100, alpha=0.025)\n"
     ]
    }
   ],
   "source": [
    "print(model)\n",
    "# summarize vocabulary\n",
    "words = list(model.wv.vocab)\n",
    "# print(words)\n",
    "# access vector for one word\n",
    "print(model['python'])\n",
    "# save model\n",
    "model.save('model.bin')\n",
    "# load model\n",
    "new_model = Word2Vec.load('model.bin')\n",
    "print(new_model)"
   ]
  },
  {
   "cell_type": "code",
   "execution_count": 25,
   "id": "loved-delight",
   "metadata": {},
   "outputs": [
    {
     "name": "stderr",
     "output_type": "stream",
     "text": [
      "<ipython-input-25-c60322eee7e8>:1: DeprecationWarning: Call to deprecated `__getitem__` (Method will be removed in 4.0.0, use self.wv.__getitem__() instead).\n",
      "  X = model[model.wv.vocab]\n"
     ]
    }
   ],
   "source": [
    "\n",
    "X = model[model.wv.vocab]\n"
   ]
  },
  {
   "cell_type": "code",
   "execution_count": 29,
   "id": "minor-necklace",
   "metadata": {},
   "outputs": [],
   "source": [
    "\n",
    "from gensim.models import Word2Vec\n",
    "from sklearn.decomposition import PCA\n",
    "from matplotlib import pyplot\n",
    "pca = PCA(n_components=2)\n",
    "result = pca.fit_transform(X)"
   ]
  },
  {
   "cell_type": "code",
   "execution_count": 31,
   "id": "attached-aside",
   "metadata": {},
   "outputs": [],
   "source": [
    "# pyplot.scatter(result[:, 0], result[:, 1])\n",
    "# words = list(model.wv.vocab)\n",
    "# for i, word in enumerate(words):\n",
    "# \tpyplot.annotate(word, xy=(result[i, 0], result[i, 1]))\n",
    "# pyplot.show()"
   ]
  },
  {
   "cell_type": "code",
   "execution_count": 175,
   "id": "received-international",
   "metadata": {},
   "outputs": [
    {
     "name": "stderr",
     "output_type": "stream",
     "text": [
      "<ipython-input-175-d45d5651ae16>:6: DeprecationWarning: Call to deprecated `__getitem__` (Method will be removed in 4.0.0, use self.wv.__getitem__() instead).\n",
      "  X=model[terms]\n"
     ]
    }
   ],
   "source": [
    "# model.wv.vocab\n",
    "terms=[\"Programmer\",\"Coding\",\"Deep\",\"Learning\",\"Cloud\",\"Computing\",\"Javascript\",\"Backend\",\"Frontend\",\"Data\" ,\"Science\",\"Dribbble\",\"Github\",\"Machine\",\"Learning\",\\\n",
    "       \"Engineer\",\"Figma\",\"Sketch\",\"Blender\",\"Mathematician\",\"Audio\",\"Programming\",\"ReactJS\",\"VueJS\",\"CSS\",\"Design\",\"Engineer\",\"Operating\",\"System\",\\\n",
    "       \"Linux\",\"Scripting\",\"Shell\",\"Script\",\"Leader\",\"Nodejs\",\"Django\",\"Web\",\"google\",\"java\",\"Flutter\",\"material\",\"bootstrap\",\"Rust\",\"Julia\",\"Engine\",\"html\",\"open\",\"source\",\"aws\",\"media\",\"apple\",\"logic\"]\n",
    "terms=[x.lower() for x in terms]\n",
    "X=model[terms]"
   ]
  },
  {
   "cell_type": "code",
   "execution_count": 176,
   "id": "excessive-shuttle",
   "metadata": {},
   "outputs": [],
   "source": [
    "from gensim.models import Word2Vec\n",
    "from sklearn.decomposition import PCA\n",
    "from matplotlib import pyplot\n",
    "pca = PCA(n_components=2)\n",
    "result = pca.fit_transform(X)"
   ]
  },
  {
   "cell_type": "code",
   "execution_count": 177,
   "id": "timely-convenience",
   "metadata": {},
   "outputs": [
    {
     "data": {
      "image/png": "[encoded data removed]",
      "text/plain": [
       "<Figure size 2160x2160 with 1 Axes>"
      ]
     },
     "metadata": {
      "needs_background": "light"
     },
     "output_type": "display_data"
    }
   ],
   "source": [
    "\n",
    "width,height=30,30\n",
    "pyplot.figure(figsize=(width,height))   \n",
    "pyplot.scatter(result[:, 0], result[:, 1])\n",
    "words = list(terms)\n",
    "for i, word in enumerate(words):\n",
    "\tpyplot.annotate(word, xy=(result[i, 0], result[i, 1]))\n",
    "pyplot.show()"
   ]
  },
  {
   "cell_type": "markdown",
   "id": "adult-artwork",
   "metadata": {},
   "source": [
    "# Demo on accurate words\n"
   ]
  },
  {
   "cell_type": "code",
   "execution_count": 180,
   "id": "covered-swing",
   "metadata": {},
   "outputs": [
    {
     "name": "stderr",
     "output_type": "stream",
     "text": [
      "<ipython-input-180-b45a16880913>:5: DeprecationWarning: Call to deprecated `__getitem__` (Method will be removed in 4.0.0, use self.wv.__getitem__() instead).\n",
      "  X=model[terms]\n"
     ]
    },
    {
     "data": {
      "image/png": "[encoded data removed]",
      "text/plain": [
       "<Figure size 1080x1080 with 1 Axes>"
      ]
     },
     "metadata": {
      "needs_background": "light"
     },
     "output_type": "display_data"
    }
   ],
   "source": [
    "terms=[\"Programmer\",\"Coding\",\"Deep\",\"Learning\",\"Cloud\",\"Computing\",\"Javascript\",\"Frontend\",\"Data\" ,\"Science\",\"Dribbble\",\"Github\",\"Machine\",\"Learning\",\\\n",
    "       \"Engineer\",\"Figma\",\"Sketch\",\"Mathematician\",\"Audio\",\"Programming\",\"ReactJS\",\"VueJS\",\"CSS\",\"Design\",\"Engineer\",\"Operating\",\"System\",\\\n",
    "       \"Linux\",\"Scripting\",\"Shell\",\"Script\",\"Leader\",\"Nodejs\",\"Django\",\"Web\",\"google\",\"java\",\"Flutter\",\"Rust\",\"Julia\",\"Engine\"]\n",
    "terms=[x.lower() for x in terms]\n",
    "X=model[terms]\n",
    "\n",
    "from sklearn.decomposition import PCA\n",
    "from matplotlib import pyplot\n",
    "pca = PCA(n_components=2)\n",
    "result = pca.fit_transform(X)\n",
    "\n",
    "width,height=15,15\n",
    "pyplot.figure(figsize=(width,height))   \n",
    "pyplot.scatter(result[:, 0], result[:, 1])\n",
    "words = list(terms)\n",
    "for i, word in enumerate(words):\n",
    "\tpyplot.annotate(word, xy=(result[i, 0], result[i, 1]))\n",
    "pyplot.show()"
   ]
  },
  {
   "cell_type": "code",
   "execution_count": 198,
   "id": "eleven-prior",
   "metadata": {},
   "outputs": [],
   "source": [
    "from sklearn.cluster import KMeans"
   ]
  },
  {
   "cell_type": "code",
   "execution_count": 199,
   "id": "joined-traffic",
   "metadata": {},
   "outputs": [
    {
     "name": "stderr",
     "output_type": "stream",
     "text": [
      "<ipython-input-199-45cb6ece4c52>:5: DeprecationWarning: Call to deprecated `__getitem__` (Method will be removed in 4.0.0, use self.wv.__getitem__() instead).\n",
      "  X=model[terms]\n"
     ]
    }
   ],
   "source": [
    "terms=[\"Programmer\",\"Coding\",\"Deep\",\"Learning\",\"Cloud\",\"Computing\",\"Javascript\",\"Frontend\",\"Data\" ,\"Science\",\"Dribbble\",\"Github\",\"Machine\",\"Learning\",\\\n",
    "       \"Engineer\",\"Figma\",\"Sketch\",\"Mathematician\",\"Audio\",\"Programming\",\"ReactJS\",\"VueJS\",\"CSS\",\"Design\",\"Engineer\",\"Operating\",\"System\",\\\n",
    "       \"Linux\",\"Scripting\",\"Shell\",\"Script\",\"Leader\",\"Nodejs\",\"Django\",\"Web\",\"google\",\"java\",\"Flutter\",\"Rust\",\"Julia\",\"Engine\",\"html\"]\n",
    "terms=[x.lower() for x in terms]\n",
    "X=model[terms]"
   ]
  },
  {
   "cell_type": "code",
   "execution_count": 200,
   "id": "sublime-treatment",
   "metadata": {},
   "outputs": [],
   "source": [
    "kmeans = KMeans(n_clusters=6, random_state=0).fit(X)"
   ]
  },
  {
   "cell_type": "code",
   "execution_count": 201,
   "id": "prospective-parks",
   "metadata": {},
   "outputs": [
    {
     "data": {
      "text/plain": [
       "array([1, 1, 0, 0, 0, 0, 1, 5, 0, 0, 0, 5, 0, 0, 4, 0, 4, 4, 3, 1, 5, 1,\n",
       "       5, 3, 4, 4, 4, 5, 4, 4, 4, 4, 1, 2, 5, 2, 2, 2, 2, 2, 2, 5],\n",
       "      dtype=int32)"
      ]
     },
     "execution_count": 201,
     "metadata": {},
     "output_type": "execute_result"
    }
   ],
   "source": [
    "kmeans.labels_"
   ]
  },
  {
   "cell_type": "code",
   "execution_count": 202,
   "id": "several-volume",
   "metadata": {},
   "outputs": [
    {
     "data": {
      "image/png": "[encoded data removed]",
      "text/plain": [
       "<Figure size 1080x1080 with 1 Axes>"
      ]
     },
     "metadata": {
      "needs_background": "light"
     },
     "output_type": "display_data"
    }
   ],
   "source": [
    "from sklearn.decomposition import PCA\n",
    "from matplotlib import pyplot\n",
    "pca = PCA(n_components=2)\n",
    "result = pca.fit_transform(X)\n",
    "\n",
    "colordict={\n",
    "    0:\"red\",\n",
    "    1:\"green\",\n",
    "    2:\"blue\",\n",
    "    3:\"orange\",\n",
    "    4:\"magenta\",\n",
    "    5:\"black\"\n",
    "}\n",
    "\n",
    "width,height=15,15\n",
    "pyplot.figure(figsize=(width,height))   \n",
    "pyplot.scatter(result[:, 0], result[:, 1])\n",
    "words = list(terms)\n",
    "for i, word in enumerate(words):\n",
    "\tpyplot.annotate(word, xy=(result[i, 0], result[i, 1]),color=colordict[kmeans.labels_[i]])\n",
    "pyplot.savefig(\"kmeansclustered.png\")\n",
    "pyplot.show()\n",
    "\n"
   ]
  },
  {
   "cell_type": "markdown",
   "id": "intended-bonus",
   "metadata": {},
   "source": [
    "## Lets try for less clusters"
   ]
  },
  {
   "cell_type": "code",
   "execution_count": 205,
   "id": "flying-curve",
   "metadata": {},
   "outputs": [
    {
     "name": "stderr",
     "output_type": "stream",
     "text": [
      "<ipython-input-205-5932f33732b1>:5: DeprecationWarning: Call to deprecated `__getitem__` (Method will be removed in 4.0.0, use self.wv.__getitem__() instead).\n",
      "  X=model[terms]\n"
     ]
    },
    {
     "data": {
      "image/png": "[encoded data removed]",
      "text/plain": [
       "<Figure size 1080x1080 with 1 Axes>"
      ]
     },
     "metadata": {
      "needs_background": "light"
     },
     "output_type": "display_data"
    }
   ],
   "source": [
    "terms=[\"Programmer\",\"Coding\",\"Deep\",\"Learning\",\"Cloud\",\"Computing\",\"Javascript\",\"Frontend\",\"Data\" ,\"Science\",\"Dribbble\",\"Github\",\"Machine\",\"Learning\",\\\n",
    "       \"Engineer\",\"Figma\",\"Sketch\",\"Mathematician\",\"Audio\",\"Programming\",\"ReactJS\",\"VueJS\",\"CSS\",\"Design\",\"Engineer\",\"Operating\",\"System\",\\\n",
    "       \"Linux\",\"Scripting\",\"Shell\",\"Script\",\"Leader\",\"Nodejs\",\"Django\",\"Web\",\"google\",\"java\",\"Flutter\",\"Rust\",\"Julia\",\"Engine\",\"html\"]\n",
    "terms=[x.lower() for x in terms]\n",
    "X=model[terms]\n",
    "kmeans = KMeans(n_clusters=4, random_state=0).fit(X)\n",
    "from sklearn.decomposition import PCA\n",
    "from matplotlib import pyplot\n",
    "pca = PCA(n_components=2)\n",
    "result = pca.fit_transform(X)\n",
    "\n",
    "colordict={\n",
    "    0:\"red\",\n",
    "    1:\"green\",\n",
    "    2:\"blue\",\n",
    "    3:\"orange\",\n",
    "    4:\"magenta\",\n",
    "    5:\"black\"\n",
    "}\n",
    "\n",
    "width,height=15,15\n",
    "pyplot.figure(figsize=(width,height))   \n",
    "pyplot.scatter(result[:, 0], result[:, 1])\n",
    "words = list(terms)\n",
    "for i, word in enumerate(words):\n",
    "\tpyplot.annotate(word, xy=(result[i, 0], result[i, 1]),color=colordict[kmeans.labels_[i]])\n",
    "pyplot.savefig(\"kmeansclustered2.png\")\n",
    "pyplot.show()"
   ]
  },
  {
   "cell_type": "code",
   "execution_count": 206,
   "id": "settled-purse",
   "metadata": {},
   "outputs": [
    {
     "name": "stderr",
     "output_type": "stream",
     "text": [
      "<ipython-input-206-3c9b9d3a8bac>:5: DeprecationWarning: Call to deprecated `__getitem__` (Method will be removed in 4.0.0, use self.wv.__getitem__() instead).\n",
      "  X=model[terms]\n"
     ]
    },
    {
     "data": {
      "image/png": "[encoded data removed]",
      "text/plain": [
       "<Figure size 1080x1080 with 1 Axes>"
      ]
     },
     "metadata": {
      "needs_background": "light"
     },
     "output_type": "display_data"
    }
   ],
   "source": [
    "terms=[\"Programmer\",\"Coding\",\"Deep\",\"Learning\",\"Cloud\",\"Computing\",\"Javascript\",\"Frontend\",\"Data\" ,\"Science\",\"Dribbble\",\"Github\",\"Machine\",\"Learning\",\\\n",
    "       \"Engineer\",\"Figma\",\"Sketch\",\"Mathematician\",\"Audio\",\"Programming\",\"ReactJS\",\"VueJS\",\"CSS\",\"Design\",\"Engineer\",\"Operating\",\"System\",\\\n",
    "       \"Linux\",\"Scripting\",\"Shell\",\"Script\",\"Leader\",\"Nodejs\",\"Django\",\"Web\",\"google\",\"java\",\"Flutter\",\"Rust\",\"Julia\",\"Engine\",\"html\"]\n",
    "terms=[x.lower() for x in terms]\n",
    "X=model[terms]\n",
    "kmeans = KMeans(n_clusters=3, random_state=0).fit(X)\n",
    "from sklearn.decomposition import PCA\n",
    "from matplotlib import pyplot\n",
    "pca = PCA(n_components=2)\n",
    "result = pca.fit_transform(X)\n",
    "\n",
    "colordict={\n",
    "    0:\"red\",\n",
    "    1:\"green\",\n",
    "    2:\"blue\",\n",
    "    3:\"orange\",\n",
    "    4:\"magenta\",\n",
    "    5:\"black\"\n",
    "}\n",
    "\n",
    "width,height=15,15\n",
    "pyplot.figure(figsize=(width,height))   \n",
    "pyplot.scatter(result[:, 0], result[:, 1])\n",
    "words = list(terms)\n",
    "for i, word in enumerate(words):\n",
    "\tpyplot.annotate(word, xy=(result[i, 0], result[i, 1]),color=colordict[kmeans.labels_[i]])\n",
    "pyplot.savefig(\"kmeansclustered3.png\")\n",
    "pyplot.show()"
   ]
  },
  {
   "cell_type": "code",
   "execution_count": 1,
   "id": "alert-permission",
   "metadata": {},
   "outputs": [],
   "source": [
    "import pandas as pd\n",
    "df=pd.DataFrame(columns=[\"_id\",\"fullname\",\"email\",\"role\",\"specialities\",\"organisation\",\"rolevec\",\"sp1\",\"sp2\",\"sp3\"])"
   ]
  },
  {
   "cell_type": "code",
   "execution_count": 2,
   "id": "impressed-ribbon",
   "metadata": {},
   "outputs": [
    {
     "data": {
      "text/html": [
       "<div>\n",
       "<style scoped>\n",
       "    .dataframe tbody tr th:only-of-type {\n",
       "        vertical-align: middle;\n",
       "    }\n",
       "\n",
       "    .dataframe tbody tr th {\n",
       "        vertical-align: top;\n",
       "    }\n",
       "\n",
       "    .dataframe thead th {\n",
       "        text-align: right;\n",
       "    }\n",
       "</style>\n",
       "<table border=\"1\" class=\"dataframe\">\n",
       "  <thead>\n",
       "    <tr style=\"text-align: right;\">\n",
       "      <th></th>\n",
       "      <th>_id</th>\n",
       "      <th>fullname</th>\n",
       "      <th>email</th>\n",
       "      <th>role</th>\n",
       "      <th>specialities</th>\n",
       "      <th>organisation</th>\n",
       "      <th>rolevec</th>\n",
       "      <th>sp1</th>\n",
       "      <th>sp2</th>\n",
       "      <th>sp3</th>\n",
       "    </tr>\n",
       "  </thead>\n",
       "  <tbody>\n",
       "  </tbody>\n",
       "</table>\n",
       "</div>"
      ],
      "text/plain": [
       "Empty DataFrame\n",
       "Columns: [_id, fullname, email, role, specialities, organisation, rolevec, sp1, sp2, sp3]\n",
       "Index: []"
      ]
     },
     "execution_count": 2,
     "metadata": {},
     "output_type": "execute_result"
    }
   ],
   "source": [
    "df"
   ]
  },
  {
   "cell_type": "code",
   "execution_count": 8,
   "id": "hydraulic-correction",
   "metadata": {},
   "outputs": [],
   "source": [
    "a={\"fullname\": \"Kaushal Patil\",\n",
    "                \"email\": \"kaushalpatil10@gmail.com\",\n",
    "                \"password\": \"password123@\",\n",
    "                \"role\": \"programmer\",\n",
    "                \"specialities\": [\"python\", \"javascript\", \"backend\", \"frontend\", \"deeplearning\"],\n",
    "                \"organisation\": \"Ahmedabad University\",\n",
    "                \"pipelined\": 0}"
   ]
  },
  {
   "cell_type": "code",
   "execution_count": 9,
   "id": "returning-marketplace",
   "metadata": {},
   "outputs": [
    {
     "data": {
      "text/plain": [
       "{'fullname': 'Kaushal Patil',\n",
       " 'email': 'kaushalpatil10@gmail.com',\n",
       " 'password': 'password123@',\n",
       " 'role': 'programmer',\n",
       " 'specialities': ['python',\n",
       "  'javascript',\n",
       "  'backend',\n",
       "  'frontend',\n",
       "  'deeplearning'],\n",
       " 'organisation': 'Ahmedabad University',\n",
       " 'pipelined': 0}"
      ]
     },
     "execution_count": 9,
     "metadata": {},
     "output_type": "execute_result"
    }
   ],
   "source": [
    "a"
   ]
  },
  {
   "cell_type": "code",
   "execution_count": 10,
   "id": "broken-visibility",
   "metadata": {},
   "outputs": [],
   "source": [
    "from gensim.models import Word2Vec\n",
    "new_model = Word2Vec.load('model.bin')"
   ]
  },
  {
   "cell_type": "code",
   "execution_count": 11,
   "id": "everyday-reply",
   "metadata": {},
   "outputs": [
    {
     "name": "stderr",
     "output_type": "stream",
     "text": [
      "<ipython-input-11-b86b3aefc347>:1: DeprecationWarning: Call to deprecated `__getitem__` (Method will be removed in 4.0.0, use self.wv.__getitem__() instead).\n",
      "  df.loc[len(df.index)] = [\"23523hgiufy345\",a[\"fullname\"],a[\"email\"],a[\"role\"],a[\"specialities\"],a[\"organisation\"],new_model[a[\"role\"]],new_model[a[\"specialities\"][0]],new_model[a[\"specialities\"][2]],new_model[a[\"specialities\"][2]]]\n"
     ]
    }
   ],
   "source": [
    "df.loc[len(df.index)] = [\"23523hgiufy345\",a[\"fullname\"],a[\"email\"],a[\"role\"],a[\"specialities\"],a[\"organisation\"],new_model[a[\"role\"]],new_model[a[\"specialities\"][0]],new_model[a[\"specialities\"][2]],new_model[a[\"specialities\"][2]]]  "
   ]
  },
  {
   "cell_type": "code",
   "execution_count": 12,
   "id": "perceived-welcome",
   "metadata": {},
   "outputs": [
    {
     "data": {
      "text/html": [
       "<div>\n",
       "<style scoped>\n",
       "    .dataframe tbody tr th:only-of-type {\n",
       "        vertical-align: middle;\n",
       "    }\n",
       "\n",
       "    .dataframe tbody tr th {\n",
       "        vertical-align: top;\n",
       "    }\n",
       "\n",
       "    .dataframe thead th {\n",
       "        text-align: right;\n",
       "    }\n",
       "</style>\n",
       "<table border=\"1\" class=\"dataframe\">\n",
       "  <thead>\n",
       "    <tr style=\"text-align: right;\">\n",
       "      <th></th>\n",
       "      <th>_id</th>\n",
       "      <th>fullname</th>\n",
       "      <th>email</th>\n",
       "      <th>role</th>\n",
       "      <th>specialities</th>\n",
       "      <th>organisation</th>\n",
       "      <th>rolevec</th>\n",
       "      <th>sp1</th>\n",
       "      <th>sp2</th>\n",
       "      <th>sp3</th>\n",
       "    </tr>\n",
       "  </thead>\n",
       "  <tbody>\n",
       "    <tr>\n",
       "      <th>0</th>\n",
       "      <td>23523hgiufy345</td>\n",
       "      <td>Kaushal Patil</td>\n",
       "      <td>kaushalpatil10@gmail.com</td>\n",
       "      <td>programmer</td>\n",
       "      <td>[python, javascript, backend, frontend, deeple...</td>\n",
       "      <td>Ahmedabad University</td>\n",
       "      <td>[-0.21826054, -1.1970179, -0.34079888, 1.73621...</td>\n",
       "      <td>[-0.050924763, -0.6174708, -0.21795674, 0.8900...</td>\n",
       "      <td>[-0.08466415, -1.1211591, 0.100969754, 1.30290...</td>\n",
       "      <td>[-0.08466415, -1.1211591, 0.100969754, 1.30290...</td>\n",
       "    </tr>\n",
       "  </tbody>\n",
       "</table>\n",
       "</div>"
      ],
      "text/plain": [
       "              _id       fullname                     email        role  \\\n",
       "0  23523hgiufy345  Kaushal Patil  kaushalpatil10@gmail.com  programmer   \n",
       "\n",
       "                                        specialities          organisation  \\\n",
       "0  [python, javascript, backend, frontend, deeple...  Ahmedabad University   \n",
       "\n",
       "                                             rolevec  \\\n",
       "0  [-0.21826054, -1.1970179, -0.34079888, 1.73621...   \n",
       "\n",
       "                                                 sp1  \\\n",
       "0  [-0.050924763, -0.6174708, -0.21795674, 0.8900...   \n",
       "\n",
       "                                                 sp2  \\\n",
       "0  [-0.08466415, -1.1211591, 0.100969754, 1.30290...   \n",
       "\n",
       "                                                 sp3  \n",
       "0  [-0.08466415, -1.1211591, 0.100969754, 1.30290...  "
      ]
     },
     "execution_count": 12,
     "metadata": {},
     "output_type": "execute_result"
    }
   ],
   "source": [
    "df"
   ]
  },
  {
   "cell_type": "code",
   "execution_count": 18,
   "id": "baking-digit",
   "metadata": {},
   "outputs": [
    {
     "data": {
      "text/plain": [
       "0.99999994"
      ]
     },
     "execution_count": 18,
     "metadata": {},
     "output_type": "execute_result"
    }
   ],
   "source": [
    "import numpy as np\n",
    "df.loc[0][\"sp2\"]@df.loc[0][\"sp3\"]/((np.linalg.norm(df.loc[0][\"sp2\"]))*(np.linalg.norm(df.loc[0][\"sp3\"])))"
   ]
  },
  {
   "cell_type": "code",
   "execution_count": 24,
   "id": "separate-insulation",
   "metadata": {},
   "outputs": [
    {
     "name": "stderr",
     "output_type": "stream",
     "text": [
      "<ipython-input-24-4ae812336253>:1: DeprecationWarning: Call to deprecated `__getitem__` (Method will be removed in 4.0.0, use self.wv.__getitem__() instead).\n",
      "  new_model[\"frontend\"]@new_model[\"data\"]/(np.linalg.norm(new_model[\"frontend\"])*(np.linalg.norm(new_model[\"data\"])))\n"
     ]
    },
    {
     "data": {
      "text/plain": [
       "0.8000029"
      ]
     },
     "execution_count": 24,
     "metadata": {},
     "output_type": "execute_result"
    }
   ],
   "source": [
    "new_model[\"frontend\"]@new_model[\"data\"]/(np.linalg.norm(new_model[\"frontend\"])*(np.linalg.norm(new_model[\"data\"])))\n",
    "                                   "
   ]
  },
  {
   "cell_type": "code",
   "execution_count": 25,
   "id": "damaged-possibility",
   "metadata": {},
   "outputs": [
    {
     "name": "stderr",
     "output_type": "stream",
     "text": [
      "<ipython-input-25-e85d1b0dda63>:1: DeprecationWarning: Call to deprecated `__getitem__` (Method will be removed in 4.0.0, use self.wv.__getitem__() instead).\n",
      "  new_model[\"frontend\"]@new_model[\"css\"]/(np.linalg.norm(new_model[\"frontend\"])*(np.linalg.norm(new_model[\"css\"])))\n"
     ]
    },
    {
     "data": {
      "text/plain": [
       "0.99077016"
      ]
     },
     "execution_count": 25,
     "metadata": {},
     "output_type": "execute_result"
    }
   ],
   "source": [
    "new_model[\"frontend\"]@new_model[\"css\"]/(np.linalg.norm(new_model[\"frontend\"])*(np.linalg.norm(new_model[\"css\"])))\n",
    "                                   "
   ]
  },
  {
   "cell_type": "code",
   "execution_count": 28,
   "id": "conventional-connection",
   "metadata": {},
   "outputs": [
    {
     "name": "stderr",
     "output_type": "stream",
     "text": [
      "<ipython-input-28-5ec9453f90f8>:1: DeprecationWarning: Call to deprecated `__getitem__` (Method will be removed in 4.0.0, use self.wv.__getitem__() instead).\n",
      "  new_model[\"deep\"]@new_model[\"data\"]/(np.linalg.norm(new_model[\"deep\"])*(np.linalg.norm(new_model[\"data\"])))\n"
     ]
    },
    {
     "data": {
      "text/plain": [
       "0.98571414"
      ]
     },
     "execution_count": 28,
     "metadata": {},
     "output_type": "execute_result"
    }
   ],
   "source": [
    "new_model[\"deep\"]@new_model[\"data\"]/(np.linalg.norm(new_model[\"deep\"])*(np.linalg.norm(new_model[\"data\"])))\n",
    "                                   "
   ]
  },
  {
   "cell_type": "code",
   "execution_count": 29,
   "id": "gross-threshold",
   "metadata": {},
   "outputs": [
    {
     "name": "stderr",
     "output_type": "stream",
     "text": [
      "<ipython-input-29-9430caed5c4f>:1: DeprecationWarning: Call to deprecated `__getitem__` (Method will be removed in 4.0.0, use self.wv.__getitem__() instead).\n",
      "  new_model[\"javascript\"]@new_model[\"nodejs\"]/(np.linalg.norm(new_model[\"javascript\"])*(np.linalg.norm(new_model[\"nodejs\"])))\n"
     ]
    },
    {
     "data": {
      "text/plain": [
       "0.95041203"
      ]
     },
     "execution_count": 29,
     "metadata": {},
     "output_type": "execute_result"
    }
   ],
   "source": [
    "new_model[\"javascript\"]@new_model[\"nodejs\"]/(np.linalg.norm(new_model[\"javascript\"])*(np.linalg.norm(new_model[\"nodejs\"])))"
   ]
  },
  {
   "cell_type": "code",
   "execution_count": 33,
   "id": "athletic-snake",
   "metadata": {},
   "outputs": [
    {
     "name": "stderr",
     "output_type": "stream",
     "text": [
      "<ipython-input-33-41dd180a5223>:1: DeprecationWarning: Call to deprecated `__getitem__` (Method will be removed in 4.0.0, use self.wv.__getitem__() instead).\n",
      "  new_model[\"javascript\"]@new_model[\"ml\"]/(np.linalg.norm(new_model[\"javascript\"])*(np.linalg.norm(new_model[\"ml\"])))\n"
     ]
    },
    {
     "data": {
      "text/plain": [
       "0.76356983"
      ]
     },
     "execution_count": 33,
     "metadata": {},
     "output_type": "execute_result"
    }
   ],
   "source": [
    "new_model[\"javascript\"]@new_model[\"ml\"]/(np.linalg.norm(new_model[\"javascript\"])*(np.linalg.norm(new_model[\"ml\"])))"
   ]
  },
  {
   "cell_type": "code",
   "execution_count": 34,
   "id": "statistical-april",
   "metadata": {},
   "outputs": [
    {
     "name": "stderr",
     "output_type": "stream",
     "text": [
      "<ipython-input-34-e973c0006ccc>:1: DeprecationWarning: Call to deprecated `__getitem__` (Method will be removed in 4.0.0, use self.wv.__getitem__() instead).\n",
      "  new_model[\"python\"]@new_model[\"ml\"]/(np.linalg.norm(new_model[\"python\"])*(np.linalg.norm(new_model[\"ml\"])))\n"
     ]
    },
    {
     "data": {
      "text/plain": [
       "0.8316093"
      ]
     },
     "execution_count": 34,
     "metadata": {},
     "output_type": "execute_result"
    }
   ],
   "source": [
    "new_model[\"python\"]@new_model[\"ml\"]/(np.linalg.norm(new_model[\"python\"])*(np.linalg.norm(new_model[\"ml\"])))"
   ]
  },
  {
   "cell_type": "code",
   "execution_count": 39,
   "id": "external-protection",
   "metadata": {},
   "outputs": [
    {
     "name": "stderr",
     "output_type": "stream",
     "text": [
      "<ipython-input-39-8ee701b1ce95>:2: DeprecationWarning: Call to deprecated `__getitem__` (Method will be removed in 4.0.0, use self.wv.__getitem__() instead).\n",
      "  sp1=new_model[\"fullstack\"]\n"
     ]
    }
   ],
   "source": [
    "try:\n",
    "    sp1=new_model[\"fullstack\"]\n",
    "except:\n",
    "    sp1=np.zeros(100,dtype=\"float32\")"
   ]
  },
  {
   "cell_type": "code",
   "execution_count": 41,
   "id": "manufactured-likelihood",
   "metadata": {},
   "outputs": [
    {
     "name": "stderr",
     "output_type": "stream",
     "text": [
      "<ipython-input-41-f225e55e8b01>:1: DeprecationWarning: Call to deprecated `__getitem__` (Method will be removed in 4.0.0, use self.wv.__getitem__() instead).\n",
      "  len(sp1),len(new_model[\"js\"])\n"
     ]
    },
    {
     "data": {
      "text/plain": [
       "(100, 100)"
      ]
     },
     "execution_count": 41,
     "metadata": {},
     "output_type": "execute_result"
    }
   ],
   "source": [
    "len(sp1),len(new_model[\"js\"])"
   ]
  },
  {
   "cell_type": "code",
   "execution_count": 42,
   "id": "consolidated-contributor",
   "metadata": {},
   "outputs": [],
   "source": [
    "# start working on computing similarity score and finding similar users"
   ]
  },
  {
   "cell_type": "code",
   "execution_count": 43,
   "id": "rubber-slope",
   "metadata": {},
   "outputs": [],
   "source": [
    "# 2 functions \n",
    "# 1 -> compute full similarity column\n",
    "# 2 -> compute missing values in column\n",
    "\n",
    "# 3 -> return descending sorted max n rows.\n",
    "\n"
   ]
  },
  {
   "cell_type": "code",
   "execution_count": 56,
   "id": "legislative-gilbert",
   "metadata": {},
   "outputs": [
    {
     "name": "stderr",
     "output_type": "stream",
     "text": [
      "<ipython-input-56-b834e2dd3759>:1: DeprecationWarning: The default dtype for empty Series will be 'object' instead of 'float64' in a future version. Specify a dtype explicitly to silence this warning.\n",
      "  df.append(pd.Series(), ignore_index=True)\n"
     ]
    },
    {
     "data": {
      "text/html": [
       "<div>\n",
       "<style scoped>\n",
       "    .dataframe tbody tr th:only-of-type {\n",
       "        vertical-align: middle;\n",
       "    }\n",
       "\n",
       "    .dataframe tbody tr th {\n",
       "        vertical-align: top;\n",
       "    }\n",
       "\n",
       "    .dataframe thead th {\n",
       "        text-align: right;\n",
       "    }\n",
       "</style>\n",
       "<table border=\"1\" class=\"dataframe\">\n",
       "  <thead>\n",
       "    <tr style=\"text-align: right;\">\n",
       "      <th></th>\n",
       "      <th>_id</th>\n",
       "      <th>fullname</th>\n",
       "      <th>email</th>\n",
       "      <th>role</th>\n",
       "      <th>specialities</th>\n",
       "      <th>organisation</th>\n",
       "      <th>rolevec</th>\n",
       "      <th>sp1</th>\n",
       "      <th>sp2</th>\n",
       "      <th>sp3</th>\n",
       "    </tr>\n",
       "  </thead>\n",
       "  <tbody>\n",
       "    <tr>\n",
       "      <th>0</th>\n",
       "      <td>23523hgiufy345</td>\n",
       "      <td>Kaushal Patil</td>\n",
       "      <td>kaushalpatil10@gmail.com</td>\n",
       "      <td>programmer</td>\n",
       "      <td>[python, javascript, backend, frontend, deeple...</td>\n",
       "      <td>Ahmedabad University</td>\n",
       "      <td>[-0.21826054, -1.1970179, -0.34079888, 1.73621...</td>\n",
       "      <td>[-0.050924763, -0.6174708, -0.21795674, 0.8900...</td>\n",
       "      <td>[-0.08466415, -1.1211591, 0.100969754, 1.30290...</td>\n",
       "      <td>[-0.08466415, -1.1211591, 0.100969754, 1.30290...</td>\n",
       "    </tr>\n",
       "    <tr>\n",
       "      <th>1</th>\n",
       "      <td>NaN</td>\n",
       "      <td>NaN</td>\n",
       "      <td>NaN</td>\n",
       "      <td>NaN</td>\n",
       "      <td>NaN</td>\n",
       "      <td>NaN</td>\n",
       "      <td>NaN</td>\n",
       "      <td>NaN</td>\n",
       "      <td>NaN</td>\n",
       "      <td>NaN</td>\n",
       "    </tr>\n",
       "  </tbody>\n",
       "</table>\n",
       "</div>"
      ],
      "text/plain": [
       "              _id       fullname                     email        role  \\\n",
       "0  23523hgiufy345  Kaushal Patil  kaushalpatil10@gmail.com  programmer   \n",
       "1             NaN            NaN                       NaN         NaN   \n",
       "\n",
       "                                        specialities          organisation  \\\n",
       "0  [python, javascript, backend, frontend, deeple...  Ahmedabad University   \n",
       "1                                                NaN                   NaN   \n",
       "\n",
       "                                             rolevec  \\\n",
       "0  [-0.21826054, -1.1970179, -0.34079888, 1.73621...   \n",
       "1                                                NaN   \n",
       "\n",
       "                                                 sp1  \\\n",
       "0  [-0.050924763, -0.6174708, -0.21795674, 0.8900...   \n",
       "1                                                NaN   \n",
       "\n",
       "                                                 sp2  \\\n",
       "0  [-0.08466415, -1.1211591, 0.100969754, 1.30290...   \n",
       "1                                                NaN   \n",
       "\n",
       "                                                 sp3  \n",
       "0  [-0.08466415, -1.1211591, 0.100969754, 1.30290...  \n",
       "1                                                NaN  "
      ]
     },
     "execution_count": 56,
     "metadata": {},
     "output_type": "execute_result"
    }
   ],
   "source": [
    "df.append(pd.Series(), ignore_index=True)"
   ]
  },
  {
   "cell_type": "code",
   "execution_count": 45,
   "id": "clean-cloud",
   "metadata": {},
   "outputs": [
    {
     "data": {
      "text/plain": [
       "Index(['_id', 'fullname', 'email', 'role', 'specialities', 'organisation',\n",
       "       'rolevec', 'sp1', 'sp2', 'sp3'],\n",
       "      dtype='object')"
      ]
     },
     "execution_count": 45,
     "metadata": {},
     "output_type": "execute_result"
    }
   ],
   "source": [
    "df.columns"
   ]
  },
  {
   "cell_type": "code",
   "execution_count": 57,
   "id": "medical-prayer",
   "metadata": {},
   "outputs": [
    {
     "name": "stderr",
     "output_type": "stream",
     "text": [
      "<ipython-input-57-95f6af3c420b>:1: DeprecationWarning: The default dtype for empty Series will be 'object' instead of 'float64' in a future version. Specify a dtype explicitly to silence this warning.\n",
      "  df=df.append(pd.Series(), ignore_index=True)\n"
     ]
    }
   ],
   "source": [
    "df=df.append(pd.Series(), ignore_index=True)"
   ]
  },
  {
   "cell_type": "code",
   "execution_count": 58,
   "id": "european-wright",
   "metadata": {},
   "outputs": [
    {
     "data": {
      "text/html": [
       "<div>\n",
       "<style scoped>\n",
       "    .dataframe tbody tr th:only-of-type {\n",
       "        vertical-align: middle;\n",
       "    }\n",
       "\n",
       "    .dataframe tbody tr th {\n",
       "        vertical-align: top;\n",
       "    }\n",
       "\n",
       "    .dataframe thead th {\n",
       "        text-align: right;\n",
       "    }\n",
       "</style>\n",
       "<table border=\"1\" class=\"dataframe\">\n",
       "  <thead>\n",
       "    <tr style=\"text-align: right;\">\n",
       "      <th></th>\n",
       "      <th>_id</th>\n",
       "      <th>fullname</th>\n",
       "      <th>email</th>\n",
       "      <th>role</th>\n",
       "      <th>specialities</th>\n",
       "      <th>organisation</th>\n",
       "      <th>rolevec</th>\n",
       "      <th>sp1</th>\n",
       "      <th>sp2</th>\n",
       "      <th>sp3</th>\n",
       "    </tr>\n",
       "  </thead>\n",
       "  <tbody>\n",
       "    <tr>\n",
       "      <th>0</th>\n",
       "      <td>23523hgiufy345</td>\n",
       "      <td>Kaushal Patil</td>\n",
       "      <td>kaushalpatil10@gmail.com</td>\n",
       "      <td>programmer</td>\n",
       "      <td>[python, javascript, backend, frontend, deeple...</td>\n",
       "      <td>Ahmedabad University</td>\n",
       "      <td>[-0.21826054, -1.1970179, -0.34079888, 1.73621...</td>\n",
       "      <td>[-0.050924763, -0.6174708, -0.21795674, 0.8900...</td>\n",
       "      <td>[-0.08466415, -1.1211591, 0.100969754, 1.30290...</td>\n",
       "      <td>[-0.08466415, -1.1211591, 0.100969754, 1.30290...</td>\n",
       "    </tr>\n",
       "    <tr>\n",
       "      <th>1</th>\n",
       "      <td>NaN</td>\n",
       "      <td>NaN</td>\n",
       "      <td>NaN</td>\n",
       "      <td>NaN</td>\n",
       "      <td>NaN</td>\n",
       "      <td>NaN</td>\n",
       "      <td>NaN</td>\n",
       "      <td>NaN</td>\n",
       "      <td>NaN</td>\n",
       "      <td>NaN</td>\n",
       "    </tr>\n",
       "  </tbody>\n",
       "</table>\n",
       "</div>"
      ],
      "text/plain": [
       "              _id       fullname                     email        role  \\\n",
       "0  23523hgiufy345  Kaushal Patil  kaushalpatil10@gmail.com  programmer   \n",
       "1             NaN            NaN                       NaN         NaN   \n",
       "\n",
       "                                        specialities          organisation  \\\n",
       "0  [python, javascript, backend, frontend, deeple...  Ahmedabad University   \n",
       "1                                                NaN                   NaN   \n",
       "\n",
       "                                             rolevec  \\\n",
       "0  [-0.21826054, -1.1970179, -0.34079888, 1.73621...   \n",
       "1                                                NaN   \n",
       "\n",
       "                                                 sp1  \\\n",
       "0  [-0.050924763, -0.6174708, -0.21795674, 0.8900...   \n",
       "1                                                NaN   \n",
       "\n",
       "                                                 sp2  \\\n",
       "0  [-0.08466415, -1.1211591, 0.100969754, 1.30290...   \n",
       "1                                                NaN   \n",
       "\n",
       "                                                 sp3  \n",
       "0  [-0.08466415, -1.1211591, 0.100969754, 1.30290...  \n",
       "1                                                NaN  "
      ]
     },
     "execution_count": 58,
     "metadata": {},
     "output_type": "execute_result"
    }
   ],
   "source": [
    "df"
   ]
  },
  {
   "cell_type": "code",
   "execution_count": 59,
   "id": "unlikely-professional",
   "metadata": {},
   "outputs": [],
   "source": [
    "df.loc[1][\"_id\"]=\"Hello\""
   ]
  },
  {
   "cell_type": "code",
   "execution_count": 60,
   "id": "critical-sustainability",
   "metadata": {},
   "outputs": [
    {
     "data": {
      "text/html": [
       "<div>\n",
       "<style scoped>\n",
       "    .dataframe tbody tr th:only-of-type {\n",
       "        vertical-align: middle;\n",
       "    }\n",
       "\n",
       "    .dataframe tbody tr th {\n",
       "        vertical-align: top;\n",
       "    }\n",
       "\n",
       "    .dataframe thead th {\n",
       "        text-align: right;\n",
       "    }\n",
       "</style>\n",
       "<table border=\"1\" class=\"dataframe\">\n",
       "  <thead>\n",
       "    <tr style=\"text-align: right;\">\n",
       "      <th></th>\n",
       "      <th>_id</th>\n",
       "      <th>fullname</th>\n",
       "      <th>email</th>\n",
       "      <th>role</th>\n",
       "      <th>specialities</th>\n",
       "      <th>organisation</th>\n",
       "      <th>rolevec</th>\n",
       "      <th>sp1</th>\n",
       "      <th>sp2</th>\n",
       "      <th>sp3</th>\n",
       "    </tr>\n",
       "  </thead>\n",
       "  <tbody>\n",
       "    <tr>\n",
       "      <th>0</th>\n",
       "      <td>23523hgiufy345</td>\n",
       "      <td>Kaushal Patil</td>\n",
       "      <td>kaushalpatil10@gmail.com</td>\n",
       "      <td>programmer</td>\n",
       "      <td>[python, javascript, backend, frontend, deeple...</td>\n",
       "      <td>Ahmedabad University</td>\n",
       "      <td>[-0.21826054, -1.1970179, -0.34079888, 1.73621...</td>\n",
       "      <td>[-0.050924763, -0.6174708, -0.21795674, 0.8900...</td>\n",
       "      <td>[-0.08466415, -1.1211591, 0.100969754, 1.30290...</td>\n",
       "      <td>[-0.08466415, -1.1211591, 0.100969754, 1.30290...</td>\n",
       "    </tr>\n",
       "    <tr>\n",
       "      <th>1</th>\n",
       "      <td>Hello</td>\n",
       "      <td>NaN</td>\n",
       "      <td>NaN</td>\n",
       "      <td>NaN</td>\n",
       "      <td>NaN</td>\n",
       "      <td>NaN</td>\n",
       "      <td>NaN</td>\n",
       "      <td>NaN</td>\n",
       "      <td>NaN</td>\n",
       "      <td>NaN</td>\n",
       "    </tr>\n",
       "  </tbody>\n",
       "</table>\n",
       "</div>"
      ],
      "text/plain": [
       "              _id       fullname                     email        role  \\\n",
       "0  23523hgiufy345  Kaushal Patil  kaushalpatil10@gmail.com  programmer   \n",
       "1           Hello            NaN                       NaN         NaN   \n",
       "\n",
       "                                        specialities          organisation  \\\n",
       "0  [python, javascript, backend, frontend, deeple...  Ahmedabad University   \n",
       "1                                                NaN                   NaN   \n",
       "\n",
       "                                             rolevec  \\\n",
       "0  [-0.21826054, -1.1970179, -0.34079888, 1.73621...   \n",
       "1                                                NaN   \n",
       "\n",
       "                                                 sp1  \\\n",
       "0  [-0.050924763, -0.6174708, -0.21795674, 0.8900...   \n",
       "1                                                NaN   \n",
       "\n",
       "                                                 sp2  \\\n",
       "0  [-0.08466415, -1.1211591, 0.100969754, 1.30290...   \n",
       "1                                                NaN   \n",
       "\n",
       "                                                 sp3  \n",
       "0  [-0.08466415, -1.1211591, 0.100969754, 1.30290...  \n",
       "1                                                NaN  "
      ]
     },
     "execution_count": 60,
     "metadata": {},
     "output_type": "execute_result"
    }
   ],
   "source": [
    "df"
   ]
  },
  {
   "cell_type": "code",
   "execution_count": 3,
   "id": "moderate-massachusetts",
   "metadata": {},
   "outputs": [],
   "source": [
    "import pandas as pd\n",
    "df=pd.read_pickle(\"qupiddf.pickle\")"
   ]
  },
  {
   "cell_type": "code",
   "execution_count": 4,
   "id": "straight-darkness",
   "metadata": {},
   "outputs": [],
   "source": [
    "df.to_pickle(\"qupiddf.pickle\")"
   ]
  },
  {
   "cell_type": "code",
   "execution_count": 70,
   "id": "temporal-knight",
   "metadata": {},
   "outputs": [],
   "source": [
    "df=pd.read_pickle(\"qupiddf.pickle\")"
   ]
  },
  {
   "cell_type": "code",
   "execution_count": 71,
   "id": "editorial-receipt",
   "metadata": {},
   "outputs": [
    {
     "data": {
      "text/html": [
       "<div>\n",
       "<style scoped>\n",
       "    .dataframe tbody tr th:only-of-type {\n",
       "        vertical-align: middle;\n",
       "    }\n",
       "\n",
       "    .dataframe tbody tr th {\n",
       "        vertical-align: top;\n",
       "    }\n",
       "\n",
       "    .dataframe thead th {\n",
       "        text-align: right;\n",
       "    }\n",
       "</style>\n",
       "<table border=\"1\" class=\"dataframe\">\n",
       "  <thead>\n",
       "    <tr style=\"text-align: right;\">\n",
       "      <th></th>\n",
       "      <th>_id</th>\n",
       "      <th>fullname</th>\n",
       "      <th>email</th>\n",
       "      <th>role</th>\n",
       "      <th>specialities</th>\n",
       "      <th>organisation</th>\n",
       "      <th>rolevec</th>\n",
       "      <th>sp1</th>\n",
       "      <th>sp2</th>\n",
       "      <th>sp3</th>\n",
       "      <th>simaofFOAUHfbFASF7^ASFBKjAf</th>\n",
       "      <th>sim603953ab4f8181a538bf3088</th>\n",
       "      <th>sim603aa29d635cc066c2f64845</th>\n",
       "    </tr>\n",
       "  </thead>\n",
       "  <tbody>\n",
       "    <tr>\n",
       "      <th>0</th>\n",
       "      <td>60354924a73028d50dc270c1</td>\n",
       "      <td>Kaushal Patil</td>\n",
       "      <td>kaushalpatil10@gmail.com</td>\n",
       "      <td>fullstack</td>\n",
       "      <td>[python, javascript, backend, frontend, deeple...</td>\n",
       "      <td>Ahmedabad University</td>\n",
       "      <td>[1.0, 1.0, 1.0, 1.0, 1.0, 1.0, 1.0, 1.0, 1.0, ...</td>\n",
       "      <td>[-0.050924763, -0.6174708, -0.21795674, 0.8900...</td>\n",
       "      <td>[-0.0061101005, -1.2225759, -0.75153536, 1.825...</td>\n",
       "      <td>[-0.08466415, -1.1211591, 0.100969754, 1.30290...</td>\n",
       "      <td>0.691845</td>\n",
       "      <td>1.000000</td>\n",
       "      <td>0.632247</td>\n",
       "    </tr>\n",
       "    <tr>\n",
       "      <th>1</th>\n",
       "      <td>6039537c5834b6c50f9eb1ca</td>\n",
       "      <td>Kaushal Patil123</td>\n",
       "      <td>kaushalpatil20@gmail.com</td>\n",
       "      <td>fullstack</td>\n",
       "      <td>[python, javascript]</td>\n",
       "      <td>Bright Day School</td>\n",
       "      <td>[1.0, 1.0, 1.0, 1.0, 1.0, 1.0, 1.0, 1.0, 1.0, ...</td>\n",
       "      <td>[-0.050924763, -0.6174708, -0.21795674, 0.8900...</td>\n",
       "      <td>[-0.0061101005, -1.2225759, -0.75153536, 1.825...</td>\n",
       "      <td>[1.0, 1.0, 1.0, 1.0, 1.0, 1.0, 1.0, 1.0, 1.0, ...</td>\n",
       "      <td>0.469316</td>\n",
       "      <td>0.835824</td>\n",
       "      <td>0.480518</td>\n",
       "    </tr>\n",
       "    <tr>\n",
       "      <th>2</th>\n",
       "      <td>603a517d4c279eb11e503156</td>\n",
       "      <td>Kaushal Patil</td>\n",
       "      <td>kaushalpatil1@gmail.com</td>\n",
       "      <td>github</td>\n",
       "      <td>[python, javascript, backend, frontend, deeple...</td>\n",
       "      <td>Ahmedabad University</td>\n",
       "      <td>[-0.0014030047, -0.45194963, -0.16669936, 0.63...</td>\n",
       "      <td>[-0.050924763, -0.6174708, -0.21795674, 0.8900...</td>\n",
       "      <td>[-0.0061101005, -1.2225759, -0.75153536, 1.825...</td>\n",
       "      <td>[-0.08466415, -1.1211591, 0.100969754, 1.30290...</td>\n",
       "      <td>0.942651</td>\n",
       "      <td>0.678966</td>\n",
       "      <td>0.957219</td>\n",
       "    </tr>\n",
       "    <tr>\n",
       "      <th>3</th>\n",
       "      <td>603a517d4c279eb11e503156</td>\n",
       "      <td>Kaushal Patil</td>\n",
       "      <td>kaushalpatil1@gmail.com</td>\n",
       "      <td>github</td>\n",
       "      <td>[python, javascript, backend, frontend, deeple...</td>\n",
       "      <td>Ahmedabad University</td>\n",
       "      <td>[-0.0014030047, -0.45194963, -0.16669936, 0.63...</td>\n",
       "      <td>[-0.050924763, -0.6174708, -0.21795674, 0.8900...</td>\n",
       "      <td>[-0.0061101005, -1.2225759, -0.75153536, 1.825...</td>\n",
       "      <td>[-0.08466415, -1.1211591, 0.100969754, 1.30290...</td>\n",
       "      <td>NaN</td>\n",
       "      <td>0.678966</td>\n",
       "      <td>0.957219</td>\n",
       "    </tr>\n",
       "    <tr>\n",
       "      <th>4</th>\n",
       "      <td>603aa2c6635cc066c2f64846</td>\n",
       "      <td>Kaushal Patil</td>\n",
       "      <td>kaushalpatil10@gmail.com</td>\n",
       "      <td>frontend</td>\n",
       "      <td>[html, frontend, css, frontend, deeplearning]</td>\n",
       "      <td>Ahmedabad University</td>\n",
       "      <td>[-0.08158892, -0.692594, -0.19291721, 0.814151...</td>\n",
       "      <td>[-0.00849916, -0.44909707, -0.12369492, 0.7232...</td>\n",
       "      <td>[-0.08158892, -0.692594, -0.19291721, 0.814151...</td>\n",
       "      <td>[-0.024017006, -0.7735428, -0.21209157, 0.9854...</td>\n",
       "      <td>NaN</td>\n",
       "      <td>0.645001</td>\n",
       "      <td>0.992937</td>\n",
       "    </tr>\n",
       "  </tbody>\n",
       "</table>\n",
       "</div>"
      ],
      "text/plain": [
       "                        _id          fullname                     email  \\\n",
       "0  60354924a73028d50dc270c1     Kaushal Patil  kaushalpatil10@gmail.com   \n",
       "1  6039537c5834b6c50f9eb1ca  Kaushal Patil123  kaushalpatil20@gmail.com   \n",
       "2  603a517d4c279eb11e503156     Kaushal Patil   kaushalpatil1@gmail.com   \n",
       "3  603a517d4c279eb11e503156     Kaushal Patil   kaushalpatil1@gmail.com   \n",
       "4  603aa2c6635cc066c2f64846     Kaushal Patil  kaushalpatil10@gmail.com   \n",
       "\n",
       "        role                                       specialities  \\\n",
       "0  fullstack  [python, javascript, backend, frontend, deeple...   \n",
       "1  fullstack                               [python, javascript]   \n",
       "2     github  [python, javascript, backend, frontend, deeple...   \n",
       "3     github  [python, javascript, backend, frontend, deeple...   \n",
       "4   frontend      [html, frontend, css, frontend, deeplearning]   \n",
       "\n",
       "           organisation                                            rolevec  \\\n",
       "0  Ahmedabad University  [1.0, 1.0, 1.0, 1.0, 1.0, 1.0, 1.0, 1.0, 1.0, ...   \n",
       "1     Bright Day School  [1.0, 1.0, 1.0, 1.0, 1.0, 1.0, 1.0, 1.0, 1.0, ...   \n",
       "2  Ahmedabad University  [-0.0014030047, -0.45194963, -0.16669936, 0.63...   \n",
       "3  Ahmedabad University  [-0.0014030047, -0.45194963, -0.16669936, 0.63...   \n",
       "4  Ahmedabad University  [-0.08158892, -0.692594, -0.19291721, 0.814151...   \n",
       "\n",
       "                                                 sp1  \\\n",
       "0  [-0.050924763, -0.6174708, -0.21795674, 0.8900...   \n",
       "1  [-0.050924763, -0.6174708, -0.21795674, 0.8900...   \n",
       "2  [-0.050924763, -0.6174708, -0.21795674, 0.8900...   \n",
       "3  [-0.050924763, -0.6174708, -0.21795674, 0.8900...   \n",
       "4  [-0.00849916, -0.44909707, -0.12369492, 0.7232...   \n",
       "\n",
       "                                                 sp2  \\\n",
       "0  [-0.0061101005, -1.2225759, -0.75153536, 1.825...   \n",
       "1  [-0.0061101005, -1.2225759, -0.75153536, 1.825...   \n",
       "2  [-0.0061101005, -1.2225759, -0.75153536, 1.825...   \n",
       "3  [-0.0061101005, -1.2225759, -0.75153536, 1.825...   \n",
       "4  [-0.08158892, -0.692594, -0.19291721, 0.814151...   \n",
       "\n",
       "                                                 sp3  \\\n",
       "0  [-0.08466415, -1.1211591, 0.100969754, 1.30290...   \n",
       "1  [1.0, 1.0, 1.0, 1.0, 1.0, 1.0, 1.0, 1.0, 1.0, ...   \n",
       "2  [-0.08466415, -1.1211591, 0.100969754, 1.30290...   \n",
       "3  [-0.08466415, -1.1211591, 0.100969754, 1.30290...   \n",
       "4  [-0.024017006, -0.7735428, -0.21209157, 0.9854...   \n",
       "\n",
       "   simaofFOAUHfbFASF7^ASFBKjAf  sim603953ab4f8181a538bf3088  \\\n",
       "0                     0.691845                     1.000000   \n",
       "1                     0.469316                     0.835824   \n",
       "2                     0.942651                     0.678966   \n",
       "3                          NaN                     0.678966   \n",
       "4                          NaN                     0.645001   \n",
       "\n",
       "   sim603aa29d635cc066c2f64845  \n",
       "0                     0.632247  \n",
       "1                     0.480518  \n",
       "2                     0.957219  \n",
       "3                     0.957219  \n",
       "4                     0.992937  "
      ]
     },
     "execution_count": 71,
     "metadata": {},
     "output_type": "execute_result"
    }
   ],
   "source": [
    "df"
   ]
  },
  {
   "cell_type": "code",
   "execution_count": 7,
   "id": "sought-bibliography",
   "metadata": {},
   "outputs": [
    {
     "data": {
      "text/plain": [
       "array([-0.001403  , -0.45194963, -0.16669936,  0.63499016,  0.08478376,\n",
       "        0.03481857,  0.39913702, -0.7466582 , -0.3032124 ,  0.63338494,\n",
       "       -0.8274148 , -0.2855259 ,  0.13042033, -0.27515888,  0.4463916 ,\n",
       "       -0.29301688, -0.07237551,  0.10652886, -0.19618857, -0.36368096,\n",
       "        0.12442947,  0.07019225,  0.3395891 ,  0.4859414 ,  0.16561748,\n",
       "        0.5018237 ,  0.70610505, -0.60886174, -0.5170562 , -0.2844598 ,\n",
       "        0.4000326 ,  0.28748867, -0.14125702,  0.19569807, -0.26342186,\n",
       "        0.5680658 , -0.68177986,  0.33837482, -0.09784986,  0.27767873,\n",
       "        0.6168021 , -0.59591615,  0.11247995, -0.9422495 , -0.5836085 ,\n",
       "        0.5292175 , -0.08084504,  0.46407434, -0.0090061 ,  0.20216566,\n",
       "        0.537383  , -0.58576494,  0.0309124 , -0.79104424,  0.13208473,\n",
       "       -0.11051882,  0.02586986,  0.11022395, -0.54076827, -0.05043869,\n",
       "        0.38005522, -0.25846425,  0.04897328,  0.01348628, -0.28596124,\n",
       "       -0.19722958, -0.2568257 , -0.5314213 , -0.2689687 , -0.17621538,\n",
       "       -0.14412728,  0.47663426, -0.7809138 ,  0.19667535,  0.45978278,\n",
       "        0.18770584,  0.8093261 ,  1.1742319 ,  0.8864315 ,  0.3404045 ,\n",
       "       -0.24818389,  0.736592  ,  0.03036659, -0.59429026, -0.29816997,\n",
       "        0.36397728, -0.648201  ,  0.29741946, -0.06048195, -0.05288036,\n",
       "        0.2701352 , -0.5240463 ,  0.02097952,  0.19998842, -0.653949  ,\n",
       "        0.43172196,  0.45158234,  0.20470755, -0.51840556,  0.2200372 ],\n",
       "      dtype=float32)"
      ]
     },
     "execution_count": 7,
     "metadata": {},
     "output_type": "execute_result"
    }
   ],
   "source": [
    "df.rolevec[2]"
   ]
  },
  {
   "cell_type": "code",
   "execution_count": 11,
   "id": "willing-chemical",
   "metadata": {},
   "outputs": [
    {
     "name": "stderr",
     "output_type": "stream",
     "text": [
      "<ipython-input-11-e10bac275912>:3: DeprecationWarning: Call to deprecated `__getitem__` (Method will be removed in 4.0.0, use self.wv.__getitem__() instead).\n",
      "  \"rolevec\":new_model[\"programmer\"],\n",
      "<ipython-input-11-e10bac275912>:4: DeprecationWarning: Call to deprecated `__getitem__` (Method will be removed in 4.0.0, use self.wv.__getitem__() instead).\n",
      "  \"sp1\":new_model[\"backend\"],\n",
      "<ipython-input-11-e10bac275912>:5: DeprecationWarning: Call to deprecated `__getitem__` (Method will be removed in 4.0.0, use self.wv.__getitem__() instead).\n",
      "  \"sp2\":new_model[\"javascript\"],\n",
      "<ipython-input-11-e10bac275912>:6: DeprecationWarning: Call to deprecated `__getitem__` (Method will be removed in 4.0.0, use self.wv.__getitem__() instead).\n",
      "  \"sp3\":new_model[\"figma\"]\n"
     ]
    }
   ],
   "source": [
    "artfuser={\n",
    "    \"_id\":\"aofFOAUHfbFASF7^ASFBKjAf\",\n",
    "    \"rolevec\":new_model[\"programmer\"],\n",
    "    \"sp1\":new_model[\"backend\"],\n",
    "    \"sp2\":new_model[\"javascript\"],\n",
    "    \"sp3\":new_model[\"figma\"]\n",
    "}"
   ]
  },
  {
   "cell_type": "code",
   "execution_count": 12,
   "id": "registered-recorder",
   "metadata": {},
   "outputs": [
    {
     "data": {
      "text/plain": [
       "{'_id': 'aofFOAUHfbFASF7^ASFBKjAf',\n",
       " 'rolevec': array([-0.21826054, -1.1970179 , -0.34079888,  1.7362139 ,  0.47743067,\n",
       "         0.47512758,  0.78480357, -1.8740921 , -1.0570593 ,  1.5459448 ,\n",
       "        -1.9833295 , -0.34382626,  0.11375822, -1.0349205 ,  1.0625991 ,\n",
       "        -0.8835869 , -0.13555683, -0.04730484, -0.5364328 , -1.2084724 ,\n",
       "         0.9120348 , -0.0672913 ,  0.59174556,  1.5128882 ,  0.01672041,\n",
       "         1.186795  ,  1.4787254 , -1.559008  , -1.4609153 , -0.75046307,\n",
       "         0.760025  ,  0.59996265, -0.676142  ,  0.7355927 , -0.883728  ,\n",
       "         0.72280604, -1.791321  ,  1.0240897 , -0.2841505 ,  0.8799079 ,\n",
       "         1.6065651 , -1.2410377 , -0.0329954 , -1.9809874 , -1.4455729 ,\n",
       "         1.0072455 , -0.5150779 ,  1.1680132 ,  0.3239376 ,  0.43267947,\n",
       "         1.2677063 , -1.8051889 , -0.30898657, -2.1715167 , -0.03421316,\n",
       "        -0.6937069 ,  0.3678876 ,  0.11840506, -1.5839311 , -0.13518107,\n",
       "         0.9850996 , -0.5519521 ,  0.12555206, -0.12207137, -0.7352672 ,\n",
       "        -0.4094817 , -0.72946644, -1.7946357 , -0.5922877 , -0.2881037 ,\n",
       "        -0.40263095,  1.5721852 , -1.9490995 ,  0.81388324,  0.9806125 ,\n",
       "         0.11387803,  1.9861078 ,  2.4538708 ,  2.0139692 ,  0.9647237 ,\n",
       "        -0.30861112,  1.9549711 ,  0.15169261, -1.9052186 , -0.6477955 ,\n",
       "         0.30346224, -1.7984047 ,  0.5438383 , -0.16391023,  0.06732747,\n",
       "         0.6738586 , -1.3708658 ,  0.33100685,  0.8204321 , -1.162948  ,\n",
       "         1.1799865 ,  0.7314284 ,  0.92322564, -1.1313194 ,  0.30371326],\n",
       "       dtype=float32),\n",
       " 'sp1': array([-0.08466415, -1.1211591 ,  0.10096975,  1.302901  , -0.1561937 ,\n",
       "         0.4746565 ,  0.6259884 , -1.6712586 ,  0.17634769,  1.1769791 ,\n",
       "        -0.91373324, -0.22203611, -0.0367138 , -0.97131395,  0.6241785 ,\n",
       "        -0.47921357, -0.34080368,  0.25429264, -0.11613704, -0.63667667,\n",
       "         0.27344093,  0.45365447,  1.0992333 ,  0.78806275, -0.45857352,\n",
       "         0.65762144,  1.4344743 , -1.1986179 , -1.0063928 , -0.24339288,\n",
       "        -0.42636442,  0.27487797, -0.19105203,  0.05604453,  0.1197602 ,\n",
       "         0.33492061, -0.99632263,  0.702009  , -0.80024964,  1.3844156 ,\n",
       "         1.0978925 , -0.8173079 ,  0.6124783 , -1.2171642 , -0.24275208,\n",
       "         0.8677685 ,  0.23535703,  0.71061   , -0.17397991,  0.21499135,\n",
       "         0.58980453, -0.813388  , -0.5344853 , -1.7515707 ,  0.7840593 ,\n",
       "         0.04272896, -0.05641792, -0.11516283, -1.2842326 , -0.09484512,\n",
       "         0.25724766, -0.37750757,  0.06304902, -0.21314354, -0.5345016 ,\n",
       "         0.16667442, -0.27171743, -0.65216076, -1.0000546 ,  0.29004294,\n",
       "        -1.0108563 ,  1.2269394 , -0.41897705,  0.986122  ,  1.2714827 ,\n",
       "         0.5609891 ,  0.7683042 ,  1.6306437 ,  1.539567  ,  0.59543145,\n",
       "        -0.5070883 ,  1.1702021 ,  0.2634226 , -0.3539305 , -0.83329207,\n",
       "         0.9029131 , -1.103188  ,  1.2348137 , -0.09779176,  0.36840513,\n",
       "         0.4385313 , -1.0210932 ,  0.35828453,  0.55419165, -0.33693063,\n",
       "         0.42907947,  0.59938806,  0.43856606, -0.745806  , -0.24134104],\n",
       "       dtype=float32),\n",
       " 'sp2': array([-0.0061101 , -1.2225759 , -0.75153536,  1.8256316 ,  0.5304882 ,\n",
       "         0.18688118,  1.0699883 , -1.9902346 , -1.4407649 ,  1.9087836 ,\n",
       "        -2.6663706 , -0.7995734 ,  0.29329795, -0.61375546,  1.4538572 ,\n",
       "        -0.96881   , -0.07387252,  0.0415994 , -0.79241216, -1.1035746 ,\n",
       "         0.5635551 , -0.09448599,  0.58211774,  1.6597726 ,  0.65728533,\n",
       "         1.6123487 ,  1.7030917 , -1.7082498 , -1.6009537 , -0.9987998 ,\n",
       "         1.7030631 ,  0.6619398 , -0.75347334,  1.00055   , -1.2992686 ,\n",
       "         1.6426421 , -2.175327  ,  0.9869797 ,  0.10475186,  0.37501812,\n",
       "         1.9034122 , -1.7940986 , -0.06291422, -2.9203289 , -2.323654  ,\n",
       "         1.668593  , -0.70256186,  1.4223797 ,  0.30465016,  0.56240714,\n",
       "         1.8015215 , -1.998223  ,  0.36447552, -2.2052298 , -0.16878979,\n",
       "        -0.8307006 ,  0.38535196,  0.5867688 , -1.5634016 , -0.33701152,\n",
       "         1.3786304 , -0.8026878 ,  0.15739964,  0.13741603, -0.5667477 ,\n",
       "        -0.9341458 , -0.8701907 , -2.1386356 , -0.38190904, -0.91119975,\n",
       "         0.13007906,  1.3080175 , -2.9654462 ,  0.4565509 ,  0.965288  ,\n",
       "         0.2441638 ,  2.8097627 ,  3.454387  ,  2.493815  ,  0.9984985 ,\n",
       "        -0.29456726,  2.3736615 , -0.09847312, -2.3746493 , -0.62503815,\n",
       "         0.4085335 , -1.9459383 ,  0.28163847, -0.1901548 , -0.3136142 ,\n",
       "         0.71795523, -1.5632722 ,  0.00813792,  0.6720372 , -2.310292  ,\n",
       "         1.6088448 ,  1.0849674 ,  0.75354064, -1.5067525 ,  0.9750612 ],\n",
       "       dtype=float32),\n",
       " 'sp3': array([-0.1816814 , -1.2734464 , -0.02427896,  0.697583  , -0.1857943 ,\n",
       "         0.2919327 ,  0.70221794, -1.7686954 ,  0.02757008,  1.5107628 ,\n",
       "        -0.78042614, -0.1659062 , -0.12460304, -0.56752175,  0.6791716 ,\n",
       "        -0.5277413 , -0.48496813,  0.13311571,  0.09355553, -0.557096  ,\n",
       "        -0.05323101,  0.72715497,  1.2941761 ,  0.38753036, -0.4927807 ,\n",
       "         0.6352175 ,  1.6042686 , -0.7913315 , -0.9124025 , -0.26266646,\n",
       "        -0.47394496,  0.04371447, -0.03041628, -0.25655225, -0.37397546,\n",
       "         0.5571632 , -1.1599555 ,  0.5131756 , -0.7964381 ,  1.6961457 ,\n",
       "         0.9281868 , -0.6633238 ,  0.82033676, -1.4996594 , -0.05094144,\n",
       "         1.0473976 ,  0.23929961,  0.4690758 , -0.21507196,  0.15189104,\n",
       "         0.8129096 , -0.14345284, -0.06490011, -1.5845987 ,  0.9674593 ,\n",
       "        -0.3677454 , -0.09768361,  0.26588982, -1.1304243 ,  0.04191694,\n",
       "         0.22828686, -0.43426803,  0.56402415, -0.23064873, -0.25696433,\n",
       "        -0.06089363, -0.4527483 , -0.70469654, -0.80811477, -0.0972685 ,\n",
       "        -0.9459207 ,  0.9588304 , -0.6537365 ,  1.298219  ,  1.0340741 ,\n",
       "         0.5690191 ,  0.6205644 ,  1.5899117 ,  1.5100349 ,  0.2850962 ,\n",
       "         0.06265157,  1.1024125 ,  0.15611024, -0.2965731 , -1.0421456 ,\n",
       "         0.7339553 , -1.2877663 ,  0.68808556, -0.03472641,  0.8128495 ,\n",
       "         0.72150415, -0.9078883 , -0.0314837 ,  0.2340427 , -0.34440282,\n",
       "         0.28479815,  0.76313573,  0.19034122, -0.63772833, -0.18024008],\n",
       "       dtype=float32)}"
      ]
     },
     "execution_count": 12,
     "metadata": {},
     "output_type": "execute_result"
    }
   ],
   "source": [
    "artfuser\n"
   ]
  },
  {
   "cell_type": "code",
   "execution_count": 14,
   "id": "prerequisite-change",
   "metadata": {},
   "outputs": [
    {
     "data": {
      "text/plain": [
       "array([-0.05092476, -0.6174708 , -0.21795674,  0.89006746,  0.20498055,\n",
       "        0.14906953,  0.44968066, -0.9787879 , -0.5048926 ,  0.8400979 ,\n",
       "       -1.0731926 , -0.29330224,  0.11087629, -0.43687248,  0.5864134 ,\n",
       "       -0.44023415, -0.08625937,  0.05152275, -0.283713  , -0.53310287,\n",
       "        0.3212956 ,  0.01345026,  0.34741563,  0.7295249 ,  0.12459099,\n",
       "        0.6573796 ,  0.8155025 , -0.8058815 , -0.7211057 , -0.39866284,\n",
       "        0.4931659 ,  0.32254848, -0.30149272,  0.35740596, -0.42182735,\n",
       "        0.5632865 , -0.9083596 ,  0.48815355, -0.13788585,  0.3861491 ,\n",
       "        0.8422098 , -0.7323714 ,  0.06066409, -1.1665702 , -0.7918566 ,\n",
       "        0.62904584, -0.21194558,  0.6003256 ,  0.09010583,  0.24248448,\n",
       "        0.71595156, -0.89056176, -0.0456437 , -1.076717  ,  0.05742458,\n",
       "       -0.2795264 ,  0.1251021 ,  0.11397291, -0.7738054 , -0.09502061,\n",
       "        0.5185516 , -0.3209636 ,  0.06408984, -0.01651498, -0.35370508,\n",
       "       -0.25576058, -0.35023642, -0.86111003, -0.3011318 , -0.20085451,\n",
       "       -0.1592278 ,  0.71849966, -1.0435585 ,  0.34261948,  0.5263774 ,\n",
       "        0.1505777 ,  1.093924  ,  1.4361805 ,  1.1169804 ,  0.47008228,\n",
       "       -0.22013806,  1.0069295 ,  0.04374873, -0.91126037, -0.34858176,\n",
       "        0.28169927, -0.8939042 ,  0.30965832, -0.07359043, -0.03186678,\n",
       "        0.34127772, -0.72101897,  0.09981688,  0.3491761 , -0.76141465,\n",
       "        0.6090523 ,  0.46356478,  0.38350177, -0.64755577,  0.26402825],\n",
       "      dtype=float32)"
      ]
     },
     "execution_count": 14,
     "metadata": {},
     "output_type": "execute_result"
    }
   ],
   "source": [
    "import numpy as np\n",
    "np.array(df.loc[1][\"sp1\"])"
   ]
  },
  {
   "cell_type": "code",
   "execution_count": 19,
   "id": "complete-retro",
   "metadata": {},
   "outputs": [],
   "source": [
    "def computesim(df,artfuser):\n",
    "    import numpy as np\n",
    "    mag=np.linalg.norm\n",
    "    # df[\"sim\"+artfuser[\"_id\"]]=np.NaN\n",
    "    if df[\"sim\"+artfuser[\"_id\"]].empty:\n",
    "        for index,row in df.iterrows():\n",
    "            if row[\"sim\"+artfuser[\"_id\"]]==np.NaN:\n",
    "                df.at[index,\"sim\"+artfuser[\"_id\"]]=(row[\"rolevec\"]@artfuser[\"rolevec\"]/(mag(row[\"rolevec\"])*mag(artfuser[\"rolevec\"]))+\\\n",
    "                     row[\"sp1\"]@artfuser[\"sp1\"]/(mag(row[\"sp1\"])*mag(artfuser[\"sp1\"]))+\\\n",
    "                     row[\"sp2\"]@artfuser[\"sp2\"]/(mag(row[\"sp2\"])*mag(artfuser[\"sp2\"]))+\\\n",
    "                     row[\"sp3\"]@artfuser[\"sp3\"]/(mag(row[\"sp3\"])*mag(artfuser[\"sp3\"])))/4\n",
    "    else:\n",
    "        for index,row in df.iterrows():\n",
    "            df.at[index,\"sim\"+artfuser[\"_id\"]]=(row[\"rolevec\"]@artfuser[\"rolevec\"]/(mag(row[\"rolevec\"])*mag(artfuser[\"rolevec\"]))+\\\n",
    "                 row[\"sp1\"]@artfuser[\"sp1\"]/(mag(row[\"sp1\"])*mag(artfuser[\"sp1\"]))+\\\n",
    "                 row[\"sp2\"]@artfuser[\"sp2\"]/(mag(row[\"sp2\"])*mag(artfuser[\"sp2\"]))+\\\n",
    "                 row[\"sp3\"]@artfuser[\"sp3\"]/(mag(row[\"sp3\"])*mag(artfuser[\"sp3\"])))/4\n",
    "    return df"
   ]
  },
  {
   "cell_type": "code",
   "execution_count": 20,
   "id": "unsigned-slovakia",
   "metadata": {},
   "outputs": [],
   "source": [
    "# df[\"sim\"+artfuser[\"id\"]]=((df[\"rolevec\"]@artfuser[\"rolevec\"]/(mag(df[\"rolevec\"])*mag(artfuser[\"rolevec\"])))\\\n",
    "#                           +(df[\"sp1\"]@artfuser[\"sp1\"]/(mag(df[\"sp1\"])*mag(artfuser[\"sp1\"])))+\\\n",
    "#                           (df[\"sp2\"]@artfuser[\"sp2\"]/(mag(df[\"sp2\"])*mag(artfuser[\"sp2\"])))+\\\n",
    "#                          (df[\"sp3\"]@artfuser[\"sp3\"]/(mag(df[\"sp3\"])*mag(artfuser[\"sp3\"]))))/4"
   ]
  },
  {
   "cell_type": "code",
   "execution_count": 21,
   "id": "israeli-webster",
   "metadata": {},
   "outputs": [],
   "source": [
    "df=computesim(df,artfuser)"
   ]
  },
  {
   "cell_type": "code",
   "execution_count": 225,
   "id": "distributed-clone",
   "metadata": {},
   "outputs": [],
   "source": [
    "df.to_pickle(\"qupiddf.pickle\")"
   ]
  },
  {
   "cell_type": "code",
   "execution_count": 22,
   "id": "humanitarian-species",
   "metadata": {},
   "outputs": [
    {
     "data": {
      "text/html": [
       "<div>\n",
       "<style scoped>\n",
       "    .dataframe tbody tr th:only-of-type {\n",
       "        vertical-align: middle;\n",
       "    }\n",
       "\n",
       "    .dataframe tbody tr th {\n",
       "        vertical-align: top;\n",
       "    }\n",
       "\n",
       "    .dataframe thead th {\n",
       "        text-align: right;\n",
       "    }\n",
       "</style>\n",
       "<table border=\"1\" class=\"dataframe\">\n",
       "  <thead>\n",
       "    <tr style=\"text-align: right;\">\n",
       "      <th></th>\n",
       "      <th>_id</th>\n",
       "      <th>fullname</th>\n",
       "      <th>email</th>\n",
       "      <th>role</th>\n",
       "      <th>specialities</th>\n",
       "      <th>organisation</th>\n",
       "      <th>rolevec</th>\n",
       "      <th>sp1</th>\n",
       "      <th>sp2</th>\n",
       "      <th>sp3</th>\n",
       "      <th>simaofFOAUHfbFASF7^ASFBKjAf</th>\n",
       "    </tr>\n",
       "  </thead>\n",
       "  <tbody>\n",
       "    <tr>\n",
       "      <th>0</th>\n",
       "      <td>60354924a73028d50dc270c1</td>\n",
       "      <td>Kaushal Patil</td>\n",
       "      <td>kaushalpatil10@gmail.com</td>\n",
       "      <td>fullstack</td>\n",
       "      <td>[python, javascript, backend, frontend, deeple...</td>\n",
       "      <td>Ahmedabad University</td>\n",
       "      <td>[1.0, 1.0, 1.0, 1.0, 1.0, 1.0, 1.0, 1.0, 1.0, ...</td>\n",
       "      <td>[-0.050924763, -0.6174708, -0.21795674, 0.8900...</td>\n",
       "      <td>[-0.0061101005, -1.2225759, -0.75153536, 1.825...</td>\n",
       "      <td>[-0.08466415, -1.1211591, 0.100969754, 1.30290...</td>\n",
       "      <td>0.691845</td>\n",
       "    </tr>\n",
       "    <tr>\n",
       "      <th>1</th>\n",
       "      <td>6039537c5834b6c50f9eb1ca</td>\n",
       "      <td>Kaushal Patil123</td>\n",
       "      <td>kaushalpatil20@gmail.com</td>\n",
       "      <td>fullstack</td>\n",
       "      <td>[python, javascript]</td>\n",
       "      <td>Bright Day School</td>\n",
       "      <td>[1.0, 1.0, 1.0, 1.0, 1.0, 1.0, 1.0, 1.0, 1.0, ...</td>\n",
       "      <td>[-0.050924763, -0.6174708, -0.21795674, 0.8900...</td>\n",
       "      <td>[-0.0061101005, -1.2225759, -0.75153536, 1.825...</td>\n",
       "      <td>[1.0, 1.0, 1.0, 1.0, 1.0, 1.0, 1.0, 1.0, 1.0, ...</td>\n",
       "      <td>0.469316</td>\n",
       "    </tr>\n",
       "    <tr>\n",
       "      <th>2</th>\n",
       "      <td>603a517d4c279eb11e503156</td>\n",
       "      <td>Kaushal Patil</td>\n",
       "      <td>kaushalpatil1@gmail.com</td>\n",
       "      <td>github</td>\n",
       "      <td>[python, javascript, backend, frontend, deeple...</td>\n",
       "      <td>Ahmedabad University</td>\n",
       "      <td>[-0.0014030047, -0.45194963, -0.16669936, 0.63...</td>\n",
       "      <td>[-0.050924763, -0.6174708, -0.21795674, 0.8900...</td>\n",
       "      <td>[-0.0061101005, -1.2225759, -0.75153536, 1.825...</td>\n",
       "      <td>[-0.08466415, -1.1211591, 0.100969754, 1.30290...</td>\n",
       "      <td>0.942651</td>\n",
       "    </tr>\n",
       "    <tr>\n",
       "      <th>3</th>\n",
       "      <td>603a517d4c279eb11e503156</td>\n",
       "      <td>Kaushal Patil</td>\n",
       "      <td>kaushalpatil1@gmail.com</td>\n",
       "      <td>github</td>\n",
       "      <td>[python, javascript, backend, frontend, deeple...</td>\n",
       "      <td>Ahmedabad University</td>\n",
       "      <td>[-0.0014030047, -0.45194963, -0.16669936, 0.63...</td>\n",
       "      <td>[-0.050924763, -0.6174708, -0.21795674, 0.8900...</td>\n",
       "      <td>[-0.0061101005, -1.2225759, -0.75153536, 1.825...</td>\n",
       "      <td>[-0.08466415, -1.1211591, 0.100969754, 1.30290...</td>\n",
       "      <td>0.942651</td>\n",
       "    </tr>\n",
       "  </tbody>\n",
       "</table>\n",
       "</div>"
      ],
      "text/plain": [
       "                        _id          fullname                     email  \\\n",
       "0  60354924a73028d50dc270c1     Kaushal Patil  kaushalpatil10@gmail.com   \n",
       "1  6039537c5834b6c50f9eb1ca  Kaushal Patil123  kaushalpatil20@gmail.com   \n",
       "2  603a517d4c279eb11e503156     Kaushal Patil   kaushalpatil1@gmail.com   \n",
       "3  603a517d4c279eb11e503156     Kaushal Patil   kaushalpatil1@gmail.com   \n",
       "\n",
       "        role                                       specialities  \\\n",
       "0  fullstack  [python, javascript, backend, frontend, deeple...   \n",
       "1  fullstack                               [python, javascript]   \n",
       "2     github  [python, javascript, backend, frontend, deeple...   \n",
       "3     github  [python, javascript, backend, frontend, deeple...   \n",
       "\n",
       "           organisation                                            rolevec  \\\n",
       "0  Ahmedabad University  [1.0, 1.0, 1.0, 1.0, 1.0, 1.0, 1.0, 1.0, 1.0, ...   \n",
       "1     Bright Day School  [1.0, 1.0, 1.0, 1.0, 1.0, 1.0, 1.0, 1.0, 1.0, ...   \n",
       "2  Ahmedabad University  [-0.0014030047, -0.45194963, -0.16669936, 0.63...   \n",
       "3  Ahmedabad University  [-0.0014030047, -0.45194963, -0.16669936, 0.63...   \n",
       "\n",
       "                                                 sp1  \\\n",
       "0  [-0.050924763, -0.6174708, -0.21795674, 0.8900...   \n",
       "1  [-0.050924763, -0.6174708, -0.21795674, 0.8900...   \n",
       "2  [-0.050924763, -0.6174708, -0.21795674, 0.8900...   \n",
       "3  [-0.050924763, -0.6174708, -0.21795674, 0.8900...   \n",
       "\n",
       "                                                 sp2  \\\n",
       "0  [-0.0061101005, -1.2225759, -0.75153536, 1.825...   \n",
       "1  [-0.0061101005, -1.2225759, -0.75153536, 1.825...   \n",
       "2  [-0.0061101005, -1.2225759, -0.75153536, 1.825...   \n",
       "3  [-0.0061101005, -1.2225759, -0.75153536, 1.825...   \n",
       "\n",
       "                                                 sp3  \\\n",
       "0  [-0.08466415, -1.1211591, 0.100969754, 1.30290...   \n",
       "1  [1.0, 1.0, 1.0, 1.0, 1.0, 1.0, 1.0, 1.0, 1.0, ...   \n",
       "2  [-0.08466415, -1.1211591, 0.100969754, 1.30290...   \n",
       "3  [-0.08466415, -1.1211591, 0.100969754, 1.30290...   \n",
       "\n",
       "   simaofFOAUHfbFASF7^ASFBKjAf  \n",
       "0                     0.691845  \n",
       "1                     0.469316  \n",
       "2                     0.942651  \n",
       "3                     0.942651  "
      ]
     },
     "execution_count": 22,
     "metadata": {},
     "output_type": "execute_result"
    }
   ],
   "source": [
    "df"
   ]
  },
  {
   "cell_type": "code",
   "execution_count": 59,
   "id": "agreed-candy",
   "metadata": {},
   "outputs": [],
   "source": [
    "a={}\n",
    "columns=[\"_id\",\"fullname\",\"email\",\"role\",\"specialities\",\"organisation\"]\n",
    "a[1]=df.nlargest(5,columns=[\"sim\"+artfuser[\"_id\"]])[columns].to_dict(orient=\"records\")"
   ]
  },
  {
   "cell_type": "code",
   "execution_count": 60,
   "id": "fossil-netherlands",
   "metadata": {},
   "outputs": [
    {
     "data": {
      "text/plain": [
       "{1: [{'_id': '603a517d4c279eb11e503156',\n",
       "   'fullname': 'Kaushal Patil',\n",
       "   'email': 'kaushalpatil1@gmail.com',\n",
       "   'role': 'github',\n",
       "   'specialities': ['python',\n",
       "    'javascript',\n",
       "    'backend',\n",
       "    'frontend',\n",
       "    'deeplearning'],\n",
       "   'organisation': 'Ahmedabad University'},\n",
       "  {'_id': '603a517d4c279eb11e503156',\n",
       "   'fullname': 'Kaushal Patil',\n",
       "   'email': 'kaushalpatil1@gmail.com',\n",
       "   'role': 'github',\n",
       "   'specialities': ['python',\n",
       "    'javascript',\n",
       "    'backend',\n",
       "    'frontend',\n",
       "    'deeplearning'],\n",
       "   'organisation': 'Ahmedabad University'},\n",
       "  {'_id': '60354924a73028d50dc270c1',\n",
       "   'fullname': 'Kaushal Patil',\n",
       "   'email': 'kaushalpatil10@gmail.com',\n",
       "   'role': 'fullstack',\n",
       "   'specialities': ['python',\n",
       "    'javascript',\n",
       "    'backend',\n",
       "    'frontend',\n",
       "    'deeplearning'],\n",
       "   'organisation': 'Ahmedabad University'},\n",
       "  {'_id': '6039537c5834b6c50f9eb1ca',\n",
       "   'fullname': 'Kaushal Patil123',\n",
       "   'email': 'kaushalpatil20@gmail.com',\n",
       "   'role': 'fullstack',\n",
       "   'specialities': ['python', 'javascript'],\n",
       "   'organisation': 'Bright Day School'}]}"
      ]
     },
     "execution_count": 60,
     "metadata": {},
     "output_type": "execute_result"
    }
   ],
   "source": [
    "a"
   ]
  },
  {
   "cell_type": "code",
   "execution_count": 40,
   "id": "sexual-scott",
   "metadata": {},
   "outputs": [],
   "source": [
    "import json\n",
    "b=json.loads(a[\"1\"])"
   ]
  },
  {
   "cell_type": "code",
   "execution_count": 43,
   "id": "mechanical-thesis",
   "metadata": {},
   "outputs": [
    {
     "data": {
      "text/plain": [
       "dict"
      ]
     },
     "execution_count": 43,
     "metadata": {},
     "output_type": "execute_result"
    }
   ],
   "source": []
  },
  {
   "cell_type": "code",
   "execution_count": 67,
   "id": "polar-darkness",
   "metadata": {},
   "outputs": [],
   "source": [
    "a[\"hello\"]=[1,2,3,4]"
   ]
  },
  {
   "cell_type": "code",
   "execution_count": 68,
   "id": "described-hardwood",
   "metadata": {},
   "outputs": [],
   "source": [
    "import random\n",
    "list4shuffle=a[\"hello\"]\n",
    "random.shuffle(list4shuffle)\n",
    "a[\"hello\"]=list4shuffle"
   ]
  },
  {
   "cell_type": "code",
   "execution_count": 69,
   "id": "chronic-capitol",
   "metadata": {},
   "outputs": [
    {
     "data": {
      "text/plain": [
       "([3, 1, 2, 4], [3, 1, 2, 4])"
      ]
     },
     "execution_count": 69,
     "metadata": {},
     "output_type": "execute_result"
    }
   ],
   "source": [
    "a[\"hello\"],list4shuffle"
   ]
  },
  {
   "cell_type": "code",
   "execution_count": null,
   "id": "responsible-cooking",
   "metadata": {},
   "outputs": [],
   "source": []
  }
 ],
 "metadata": {
  "kernelspec": {
   "display_name": "Python 3",
   "language": "python",
   "name": "python3"
  },
  "language_info": {
   "codemirror_mode": {
    "name": "ipython",
    "version": 3
   },
   "file_extension": ".py",
   "mimetype": "text/x-python",
   "name": "python",
   "nbconvert_exporter": "python",
   "pygments_lexer": "ipython3",
   "version": "3.8.5"
  }
 },
 "nbformat": 4,
 "nbformat_minor": 5
}
